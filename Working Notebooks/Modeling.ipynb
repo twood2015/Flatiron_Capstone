{
 "cells": [
  {
   "cell_type": "markdown",
   "metadata": {},
   "source": [
    "# Predicting Units of Product Sold"
   ]
  },
  {
   "cell_type": "markdown",
   "metadata": {},
   "source": [
    "## Business Understanding"
   ]
  },
  {
   "cell_type": "markdown",
   "metadata": {},
   "source": [
    "Understanding the demand of products is one of the most difficult problems for all businesses that produce physical goods. Even understanding the demand of a single product marketed to a single consumer base can be extremely challenging work. This challenge is compounded when dealing with the variety of products in the variety of markets that Wal-Mart is involved in. Developing a generalizable model that can be used to understand demand could give Wal-Mart a significant competitive edge over competition. An important factors that allowed Wal-Mart to keep its prices competitive and consolidate so many markets was its efficient supply chain. [Profitworks](https://profitworks.ca/small-business-sales-and-marketing-resources/blog/marketing-strategy/579-sam-walton-wal-mart-what-is-wal-mart-s-secret-to-success.html), a marketing agency, credits one of the largest reasons for Wal-Mart's national success as its extremely efficient supply chain. Being able to accurately forecast demand is imperative to efficiently running a supply chain whose supply can consistently meet demand without having an excessive amount of inventory. Keeping all products available and properly managing inventory can be difficult, and it becomes exponentially more difficult when storage bins are cluttered and/or full. Managing this balance, especially in stores with less space for inventory such as Wal-Mart Neighborhood Markets, can demand high levels of precision. "
   ]
  },
  {
   "cell_type": "markdown",
   "metadata": {},
   "source": [
    "## Data Understanding"
   ]
  },
  {
   "cell_type": "markdown",
   "metadata": {},
   "source": [
    "The data used in this analysis can be found from the M5 Forecasting - Accuracy competition on Kaggle. It contains a 5 files: calendar.csv, sales_train_validation.csv, sample_submission.csv, sell_prices.csv, and sales_train_evaluation.csv. The calendar.csv file contains the date for every day, as well as the weekday, month, and Wal-Mart week. It also includes information of the days holiday status, and the days when snap is available. The sales_train_validation.csv contains information on the amount of units sold every day for 3019 different products across 10 different Wal-Mart stores in three different states. The sales_train_evaluation data contains the same information as the validation data, along with the correct values for the 28 day forecast. The sample_submission.csv contains an example csv for the format needed to submit the 28 day forecasts. The sell_prices.csv contains the prices at which the items were sold for every Wal-Mart week."
   ]
  },
  {
   "cell_type": "code",
   "execution_count": 1,
   "metadata": {
    "scrolled": true
   },
   "outputs": [],
   "source": [
    "# imports for notebook\n",
    "import pandas as pd\n",
    "import numpy as np\n",
    "import matplotlib.pyplot as plt\n",
    "import seaborn as sns\n",
    "from sklearn.preprocessing import OneHotEncoder, MultiLabelBinarizer\n",
    "from sklearn.ensemble import RandomForestRegressor\n",
    "from sklearn.metrics import mean_squared_error\n",
    "from lightgbm import LGBMRegressor\n",
    "from xgboost import XGBRegressor"
   ]
  },
  {
   "cell_type": "markdown",
   "metadata": {},
   "source": [
    "### Dates Data"
   ]
  },
  {
   "cell_type": "code",
   "execution_count": 2,
   "metadata": {
    "scrolled": true
   },
   "outputs": [],
   "source": [
    "# read in the dates and their recorded unique characteristics\n",
    "dates = pd.read_csv('C:/Users/TWood/Downloads/m5-forecasting-accuracy/calendar.csv', parse_dates=[0])"
   ]
  },
  {
   "cell_type": "code",
   "execution_count": 3,
   "metadata": {
    "scrolled": true
   },
   "outputs": [
    {
     "name": "stdout",
     "output_type": "stream",
     "text": [
      "<class 'pandas.core.frame.DataFrame'>\n",
      "RangeIndex: 1969 entries, 0 to 1968\n",
      "Data columns (total 14 columns):\n",
      " #   Column        Non-Null Count  Dtype         \n",
      "---  ------        --------------  -----         \n",
      " 0   date          1969 non-null   datetime64[ns]\n",
      " 1   wm_yr_wk      1969 non-null   int64         \n",
      " 2   weekday       1969 non-null   object        \n",
      " 3   wday          1969 non-null   int64         \n",
      " 4   month         1969 non-null   int64         \n",
      " 5   year          1969 non-null   int64         \n",
      " 6   d             1969 non-null   object        \n",
      " 7   event_name_1  162 non-null    object        \n",
      " 8   event_type_1  162 non-null    object        \n",
      " 9   event_name_2  5 non-null      object        \n",
      " 10  event_type_2  5 non-null      object        \n",
      " 11  snap_CA       1969 non-null   int64         \n",
      " 12  snap_TX       1969 non-null   int64         \n",
      " 13  snap_WI       1969 non-null   int64         \n",
      "dtypes: datetime64[ns](1), int64(7), object(6)\n",
      "memory usage: 215.5+ KB\n"
     ]
    }
   ],
   "source": [
    "# take a look at the dates df\n",
    "dates.info()"
   ]
  },
  {
   "cell_type": "code",
   "execution_count": 4,
   "metadata": {},
   "outputs": [],
   "source": [
    "# most days have no event, replace NaN with \"None\"\n",
    "dates.replace(np.NaN, 'None', inplace=True)"
   ]
  },
  {
   "cell_type": "markdown",
   "metadata": {},
   "source": [
    "#### Binarizing Events Columns"
   ]
  },
  {
   "cell_type": "markdown",
   "metadata": {},
   "source": [
    "Some days have multiple events. One hot encoding will not be able to represent columns with multiple events, so the information will need to be in a format that the MultiLabelBinarizer can use. I'll make a new column that contains a list of all events on a given day. "
   ]
  },
  {
   "cell_type": "code",
   "execution_count": 5,
   "metadata": {},
   "outputs": [],
   "source": [
    "# remove spaces from all the events names\n",
    "dates['event_name_1'] = dates['event_name_1'].str.replace(' ', '')\n",
    "dates['event_name_2'] = dates['event_name_2'].str.replace(' ', '')"
   ]
  },
  {
   "cell_type": "code",
   "execution_count": 6,
   "metadata": {
    "scrolled": true
   },
   "outputs": [],
   "source": [
    "# create event column that contains a string of both events with a space between\n",
    "dates['event'] = dates['event_name_1'] + ' ' + dates['event_name_2']"
   ]
  },
  {
   "cell_type": "code",
   "execution_count": 7,
   "metadata": {},
   "outputs": [],
   "source": [
    "# split will turn the string into a list of both events\n",
    "dates['event'] = dates['event'].str.split()"
   ]
  },
  {
   "cell_type": "code",
   "execution_count": 8,
   "metadata": {},
   "outputs": [],
   "source": [
    "# removes the second element from the list when it is None\n",
    "dates['event'] = dates['event'].apply(lambda x: [x[0]] if x[1] == 'None' else x)"
   ]
  },
  {
   "cell_type": "code",
   "execution_count": 9,
   "metadata": {
    "scrolled": true
   },
   "outputs": [],
   "source": [
    "# instantiat the MultiLabelBinarizer and fit it to the event column\n",
    "mlb = MultiLabelBinarizer()\n",
    "mlb.fit(dates['event'])\n",
    "values = pd.DataFrame(mlb.transform(dates['event']), columns=mlb.classes_)"
   ]
  },
  {
   "cell_type": "code",
   "execution_count": 10,
   "metadata": {},
   "outputs": [],
   "source": [
    "# adds the encoded columns to the dates dataframe\n",
    "dates = pd.concat([dates, values], axis=1)"
   ]
  },
  {
   "cell_type": "code",
   "execution_count": 11,
   "metadata": {
    "scrolled": true
   },
   "outputs": [],
   "source": [
    "# drops the redundant event columns from dates\n",
    "dates.drop(columns=['event_name_1', 'event_type_1', 'event_name_2', 'event_type_2', 'event'], inplace=True)"
   ]
  },
  {
   "cell_type": "code",
   "execution_count": 12,
   "metadata": {
    "scrolled": true
   },
   "outputs": [],
   "source": [
    "# instantiate the OneHotEncoder and fit it to weekday and month columns\n",
    "ohe = OneHotEncoder(sparse=False)\n",
    "ohe.fit(dates[['weekday', 'month']])\n",
    "values = ohe.transform(dates[['weekday', 'month']])\n",
    "values = pd.DataFrame(values, columns=ohe.get_feature_names())"
   ]
  },
  {
   "cell_type": "code",
   "execution_count": 13,
   "metadata": {},
   "outputs": [],
   "source": [
    "# add the one hot encoded columns to the dates dataframe\n",
    "dates = pd.concat([dates, values], axis=1)"
   ]
  },
  {
   "cell_type": "code",
   "execution_count": 14,
   "metadata": {},
   "outputs": [],
   "source": [
    "# drop the unnecessary columns from the dates dataframe\n",
    "dates.drop(columns=['wday', 'year', 'month', 'weekday', 'snap_WI', 'snap_TX'], inplace=True)"
   ]
  },
  {
   "cell_type": "markdown",
   "metadata": {},
   "source": [
    "### Units Sold Data"
   ]
  },
  {
   "cell_type": "markdown",
   "metadata": {},
   "source": [
    "This csv contains much more information than the calendar csv, and it is still in a wide format. It will need to be melted to be used in the model, and once this dataframe is merged with the other two dataframes, it will take up a huge amount of RAM. In order to work with the data on a computer with only 8GB of RAM, I've limited the data to only the Foods 1 department of the first California store. I'll provide notebooks for other stores and departments in the modeling folder on the repository."
   ]
  },
  {
   "cell_type": "code",
   "execution_count": 15,
   "metadata": {
    "scrolled": true
   },
   "outputs": [],
   "source": [
    "# read in the data for units sold\n",
    "val = pd.read_csv('C:/Users/TWood/Downloads/m5-forecasting-accuracy/sales_train_validation.csv')"
   ]
  },
  {
   "cell_type": "code",
   "execution_count": 16,
   "metadata": {},
   "outputs": [],
   "source": [
    "# select only the data from department FOODS_1 in store CA_1 \n",
    "CA1_F1 = val[(val['store_id'] == 'CA_1')&(val['dept_id'] == 'FOODS_1')]"
   ]
  },
  {
   "cell_type": "code",
   "execution_count": 17,
   "metadata": {},
   "outputs": [
    {
     "name": "stderr",
     "output_type": "stream",
     "text": [
      "C:\\Users\\TWood\\anaconda3\\envs\\learn-env\\lib\\site-packages\\pandas\\core\\frame.py:4163: SettingWithCopyWarning: \n",
      "A value is trying to be set on a copy of a slice from a DataFrame\n",
      "\n",
      "See the caveats in the documentation: https://pandas.pydata.org/pandas-docs/stable/user_guide/indexing.html#returning-a-view-versus-a-copy\n",
      "  return super().drop(\n"
     ]
    }
   ],
   "source": [
    "# reducing the unnecessary columns to make the melt faster\n",
    "CA1_F1.drop(columns=['item_id', 'dept_id', 'cat_id', 'store_id', 'state_id'], inplace=True)"
   ]
  },
  {
   "cell_type": "code",
   "execution_count": 18,
   "metadata": {},
   "outputs": [],
   "source": [
    "# convert the dataframe into long format\n",
    "CA1_F1_ts = CA1_F1.melt(id_vars=['id'], var_name='d', value_name='sales')"
   ]
  },
  {
   "cell_type": "markdown",
   "metadata": {},
   "source": [
    "### Prices Data"
   ]
  },
  {
   "cell_type": "code",
   "execution_count": 19,
   "metadata": {},
   "outputs": [],
   "source": [
    "# read in the data on the prices for the products\n",
    "prices = pd.read_csv('C:/Users/TWood/Downloads/m5-forecasting-accuracy/sell_prices.csv')"
   ]
  },
  {
   "cell_type": "code",
   "execution_count": 20,
   "metadata": {},
   "outputs": [],
   "source": [
    "# make a new id column that matches the format of the id column in CA1_F1_ts\n",
    "prices['id'] = prices['item_id'] + '_' + prices['store_id'] + '_validation'"
   ]
  },
  {
   "cell_type": "markdown",
   "metadata": {},
   "source": [
    "## Modeling DataFrame"
   ]
  },
  {
   "cell_type": "markdown",
   "metadata": {},
   "source": [
    "The final data frame is only going to contain information from the FOODS 1 department of the first California store. Creating the data frame from merging all three csv's makes an extremely large dataframe that wouldn't fit on computers with only 8GB of RAM. I decided it would be more feasible to limit my model to only the first California score. Even only looking at the one store quickly becomes unwieldy, so we'll find the best algorithm and tune it with only the FOODS 1 department. After the best model is found, another couple notebooks will fit the model again and give the forecasts for the rest of items in the store. A little cleaning will be needed for the resulting merged CA1_F1_price, and a few time series features will be added to the dataframe, then the CA1_F1_price will be good for modeling."
   ]
  },
  {
   "cell_type": "code",
   "execution_count": 21,
   "metadata": {},
   "outputs": [],
   "source": [
    "# create a dataframe with the information from all dataframes\n",
    "CA1_F1_price = CA1_F1_ts.merge(dates, on='d').merge(prices.drop(columns=['store_id', 'item_id']), on=['id', 'wm_yr_wk'], how='left')"
   ]
  },
  {
   "cell_type": "code",
   "execution_count": 22,
   "metadata": {},
   "outputs": [],
   "source": [
    "# set the index of the dataframe to the date column\n",
    "CA1_F1_price.set_index('date', inplace=True)"
   ]
  },
  {
   "cell_type": "markdown",
   "metadata": {},
   "source": [
    "#### Missing Prices"
   ]
  },
  {
   "cell_type": "markdown",
   "metadata": {},
   "source": [
    "There are several missing prices in the dataframe, which could cause a big problem when modeling. However, upon further inspection, there were always zero sales of a product when it the products price was missing. This suggests that the price was not entered for these weeks because it was not on the shelves for those weeks. The weeks where the price is missing can easily be dropped when fitting the model as they will not be representative of the actual demand of the product. Furthermore, all 30490 distinct ids are present during the last week 11621, which means that every product in every store was on the shelf. If any of these prices were missing, it would be best to remove these predictions from the model. "
   ]
  },
  {
   "cell_type": "code",
   "execution_count": 23,
   "metadata": {},
   "outputs": [
    {
     "data": {
      "text/plain": [
       "61292"
      ]
     },
     "execution_count": 23,
     "metadata": {},
     "output_type": "execute_result"
    }
   ],
   "source": [
    "# there are several nulls after left joining with prices\n",
    "CA1_F1_price['sell_price'].isna().sum()"
   ]
  },
  {
   "cell_type": "code",
   "execution_count": 24,
   "metadata": {},
   "outputs": [
    {
     "data": {
      "text/plain": [
       "61292"
      ]
     },
     "execution_count": 24,
     "metadata": {},
     "output_type": "execute_result"
    }
   ],
   "source": [
    "# there are never any sales of a product when its price is missing for the week\n",
    "((CA1_F1_price['sales'] == 0)&(CA1_F1_price['sell_price'].isna())).sum()"
   ]
  },
  {
   "cell_type": "code",
   "execution_count": 25,
   "metadata": {},
   "outputs": [
    {
     "data": {
      "text/plain": [
       "30490"
      ]
     },
     "execution_count": 25,
     "metadata": {},
     "output_type": "execute_result"
    }
   ],
   "source": [
    "# 30490 total items\n",
    "len(val)"
   ]
  },
  {
   "cell_type": "code",
   "execution_count": 26,
   "metadata": {
    "scrolled": true
   },
   "outputs": [
    {
     "data": {
      "text/plain": [
       "30490"
      ]
     },
     "execution_count": 26,
     "metadata": {},
     "output_type": "execute_result"
    }
   ],
   "source": [
    "# the sell prices are present for all 30490 items for the final week, matches length of val dataframe\n",
    "(prices['wm_yr_wk'] == 11621).sum()"
   ]
  },
  {
   "cell_type": "markdown",
   "metadata": {},
   "source": [
    "#### Lag Columns"
   ]
  },
  {
   "cell_type": "markdown",
   "metadata": {},
   "source": [
    "This lag column will tell the model how many units were sold 28 days earlier. In order for this model to be maximally useful, Wal-Mart will need to be able to predict sales of an item much further than a week before hand. My original model contained several more lags from within 28 days, but was unable to predict days further out. It could be used to predict the next day accurately, but had a serious data leakage issue when forecasting more than one day out, as it used lags that a real model would not have access to. One could create a model that forecasts one day at a time replacing the lags with forecasted lags, but the model would suffer from giving too much weight to the forecasted lags that contain inherent error. I decided only to use lags outside of the range of the forecast. The lag of 28 will also be used to create the baseline model, where the prediction will be the amount of units sold 28 days before. I also made a column that gives the average sales of all the lags which are all the same day of the week. "
   ]
  },
  {
   "cell_type": "code",
   "execution_count": 27,
   "metadata": {
    "scrolled": true
   },
   "outputs": [
    {
     "data": {
      "text/plain": [
       "216"
      ]
     },
     "execution_count": 27,
     "metadata": {},
     "output_type": "execute_result"
    }
   ],
   "source": [
    "# make an iterable array of all the unique ids \n",
    "items = CA1_F1['id'].unique()\n",
    "# there are 216 unique items in the dataframe\n",
    "len(items)"
   ]
  },
  {
   "cell_type": "code",
   "execution_count": 28,
   "metadata": {},
   "outputs": [],
   "source": [
    "# period will be 216 items * n days\n",
    "CA1_F1_price['lag_28'] = CA1_F1_price['sales'].shift(periods=216*28)\n",
    "CA1_F1_price['lag_35'] = CA1_F1_price['sales'].shift(periods=216*35)\n",
    "CA1_F1_price['lag_42'] = CA1_F1_price['sales'].shift(periods=216*42)\n",
    "CA1_F1_price['lag_49'] = CA1_F1_price['sales'].shift(periods=216*49)"
   ]
  },
  {
   "cell_type": "code",
   "execution_count": 29,
   "metadata": {},
   "outputs": [],
   "source": [
    "# creates a column \n",
    "CA1_F1_price['avg'] = (CA1_F1_price['lag_28'] + CA1_F1_price['lag_35'] + CA1_F1_price['lag_42'] + CA1_F1_price['lag_49'])/4"
   ]
  },
  {
   "cell_type": "code",
   "execution_count": 30,
   "metadata": {
    "scrolled": true
   },
   "outputs": [],
   "source": [
    "# drops observations with missing values\n",
    "CA1_F1_price.dropna(inplace=True)"
   ]
  },
  {
   "cell_type": "code",
   "execution_count": 31,
   "metadata": {
    "scrolled": true
   },
   "outputs": [],
   "source": [
    "# converts the d variable into an integer\n",
    "CA1_F1_price['d'] = CA1_F1_price['d'].str.replace('d_', '').astype(int)"
   ]
  },
  {
   "cell_type": "markdown",
   "metadata": {},
   "source": [
    "## Baseline Models"
   ]
  },
  {
   "cell_type": "markdown",
   "metadata": {},
   "source": [
    "A common way to make baseline models for time series analysis is to calculate a lag over a certain period. As the goal is to forecast sales 28 days out, the lag_28 column for the last 28 days of the time series will be used as a baseline prediction. This gives an average RMSE of 2.06 between all the different products. There is also a baseline model that predicts units sold as the average amount of units sold daily for that item. This gives a better average RMSE of 1.71. A deployable model will need to greatly outperform both of these baseline models."
   ]
  },
  {
   "cell_type": "code",
   "execution_count": 32,
   "metadata": {},
   "outputs": [],
   "source": [
    "# make an empty list of preds and trues to add to\n",
    "preds = []\n",
    "trues = []\n",
    "# loop through the CA1_F1_price df by item\n",
    "for item in items:\n",
    "    ts = CA1_F1_price[CA1_F1_price['id'] == item]\n",
    "    # select only the last 28 days\n",
    "    test = ts['2016-03-28':]\n",
    "    # actual sales for every\n",
    "    trues.append(test['sales'])\n",
    "    # the predictions will be the number of sales 28 days before\n",
    "    preds.append(test['lag_28'])"
   ]
  },
  {
   "cell_type": "code",
   "execution_count": 33,
   "metadata": {},
   "outputs": [],
   "source": [
    "# empty list that will contain all the RMSEs\n",
    "RMSEs = []\n",
    "# there will be 216 arrays of preds and trues\n",
    "for i in range(216):\n",
    "    RMSEs.append(mean_squared_error(trues[i], preds[i], squared=False))"
   ]
  },
  {
   "cell_type": "code",
   "execution_count": 34,
   "metadata": {},
   "outputs": [
    {
     "data": {
      "text/plain": [
       "2.0627187993990534"
      ]
     },
     "execution_count": 34,
     "metadata": {},
     "output_type": "execute_result"
    }
   ],
   "source": [
    "# calculate the average RMSE for the baseline model\n",
    "np.mean(RMSEs)"
   ]
  },
  {
   "cell_type": "code",
   "execution_count": 35,
   "metadata": {},
   "outputs": [],
   "source": [
    "# make a new list of preds\n",
    "preds = []\n",
    "# get the average number of units sold for every item\n",
    "for item in items:\n",
    "    ts = CA1_F1_price[CA1_F1_price['id'] == item]\n",
    "    train = ts[:'2016-03-28']\n",
    "    test = ts['2016-03-28':]\n",
    "    # add a list with the average 28 times\n",
    "    preds.append([train['sales'].mean()]*28)"
   ]
  },
  {
   "cell_type": "code",
   "execution_count": 36,
   "metadata": {},
   "outputs": [],
   "source": [
    "# function to return average RMSE of all 216 models\n",
    "def get_rmse():\n",
    "    # make a list of the RMSE for all 216 models\n",
    "    RMSEs = []\n",
    "    for i in range(216):\n",
    "        RMSEs.append(mean_squared_error(trues[i], preds[i], squared=False))\n",
    "    # return the mean of the RMSEs list\n",
    "    return np.mean(RMSEs)"
   ]
  },
  {
   "cell_type": "code",
   "execution_count": 37,
   "metadata": {},
   "outputs": [
    {
     "data": {
      "text/plain": [
       "1.7120488074490898"
      ]
     },
     "execution_count": 37,
     "metadata": {},
     "output_type": "execute_result"
    }
   ],
   "source": [
    "# use function for average RMSE\n",
    "get_rmse()"
   ]
  },
  {
   "cell_type": "markdown",
   "metadata": {},
   "source": [
    "## First Model"
   ]
  },
  {
   "cell_type": "markdown",
   "metadata": {},
   "source": [
    "Random Forest Models are often a good place to begin when searching for a good model. They are extremely flexible and often give pretty good results even without hyperparemeter tuning. They also run much faster than many more complex models. In fact they are often quicker than simpler models such as K-Nearest Neighbors. This model ended up seriously overfitting and had an average coefficient of determination below negative one on testing data. It did get an RMSE of 1.83, which beats the first baseline of 2.06, but fails to outperform the second baseline of 1.71. Significant improvement is needed to make this model actually worth implementing. Also, strangely enough, this Random Forest model was actually much slower than the Extreme Gradient Boosted model. The Random Forest algorithm will be left behind as it does not seem to be appropriate for this sort of problem. "
   ]
  },
  {
   "cell_type": "code",
   "execution_count": 38,
   "metadata": {},
   "outputs": [],
   "source": [
    "# make a list of all the columns columns\n",
    "cols = CA1_F1_price.drop(columns=['id', 'sales']).columns"
   ]
  },
  {
   "cell_type": "code",
   "execution_count": 39,
   "metadata": {},
   "outputs": [],
   "source": [
    "# instantiate empty lists\n",
    "preds = []\n",
    "train_scores = []\n",
    "test_scores = []\n",
    "importances = []\n",
    "# loop through every item\n",
    "for item in items:\n",
    "    # create a time series only including intended item\n",
    "    ts = CA1_F1_price[CA1_F1_price['id'] == item].drop(columns=['id'])\n",
    "    # remove last 28 days from training data\n",
    "    train = ts[:'2016-03-28']\n",
    "    test = ts['2016-03-28':]\n",
    "    # split into X and y\n",
    "    X_train = train.drop('sales', axis=1)\n",
    "    X_test = test.drop('sales', axis=1)\n",
    "    y_train = train['sales']\n",
    "    y_test = test['sales']\n",
    "    # instantiate a RandomForestRegressor and fit to training\n",
    "    rf = RandomForestRegressor(random_state=42).fit(X_train, y_train)\n",
    "    # add predictions to the list\n",
    "    preds.append(rf.predict(X_test))\n",
    "    # .score methods are important for evaluating whether model is overfit\n",
    "    train_scores.append(rf.score(X_train, y_train))\n",
    "    test_scores.append(rf.score(X_test, y_test))\n",
    "    # retrieve importances from model\n",
    "    importances.append(dict(zip(cols, rf.feature_importances_)))"
   ]
  },
  {
   "cell_type": "code",
   "execution_count": 40,
   "metadata": {},
   "outputs": [
    {
     "data": {
      "text/plain": [
       "0.8702285775343062"
      ]
     },
     "execution_count": 40,
     "metadata": {},
     "output_type": "execute_result"
    }
   ],
   "source": [
    "# mean R-squared of .87\n",
    "np.mean(train_scores)"
   ]
  },
  {
   "cell_type": "code",
   "execution_count": 41,
   "metadata": {},
   "outputs": [
    {
     "data": {
      "text/plain": [
       "-0.9795491960207451"
      ]
     },
     "execution_count": 41,
     "metadata": {},
     "output_type": "execute_result"
    }
   ],
   "source": [
    "# massively overfit\n",
    "np.mean(test_scores)"
   ]
  },
  {
   "cell_type": "code",
   "execution_count": 42,
   "metadata": {},
   "outputs": [
    {
     "data": {
      "text/plain": [
       "1.8335955133316726"
      ]
     },
     "execution_count": 42,
     "metadata": {},
     "output_type": "execute_result"
    }
   ],
   "source": [
    "# use function for average RMSE\n",
    "get_rmse()"
   ]
  },
  {
   "cell_type": "code",
   "execution_count": 43,
   "metadata": {},
   "outputs": [],
   "source": [
    "# helper function to return dictionary of importances\n",
    "def get_imp():\n",
    "    # loop through every column\n",
    "    feat_imp = []\n",
    "    for col in cols:\n",
    "        # get the mean importance for every column\n",
    "        nums = []\n",
    "        for imp in importances:\n",
    "            nums.append(imp[col])\n",
    "        feat_imp.append(np.mean(nums))\n",
    "    # return a dictionary with average importances for every column\n",
    "    return dict(zip(cols, feat_imp))"
   ]
  },
  {
   "cell_type": "code",
   "execution_count": 44,
   "metadata": {
    "scrolled": true
   },
   "outputs": [
    {
     "data": {
      "text/plain": [
       "{'d': 0.2839337527263052,\n",
       " 'wm_yr_wk': 0.09841299182976755,\n",
       " 'snap_CA': 0.022267399457546657,\n",
       " 'ChanukahEnd': 0.0018633630042057406,\n",
       " 'Christmas': 0.0003120854394019062,\n",
       " 'CincoDeMayo': 0.0006420301881387592,\n",
       " 'ColumbusDay': 0.0008681355667154263,\n",
       " 'Easter': 0.001688124002863015,\n",
       " 'EidAlAdha': 0.0012810098594773255,\n",
       " 'Eidal-Fitr': 0.0010614525800370634,\n",
       " \"Father'sday\": 0.0009243128545181596,\n",
       " 'Halloween': 0.002317013231742939,\n",
       " 'IndependenceDay': 0.0010059111788702313,\n",
       " 'LaborDay': 0.0014614947527288185,\n",
       " 'LentStart': 0.0019241985076988025,\n",
       " 'LentWeek2': 0.0007898917634785533,\n",
       " 'MartinLutherKingDay': 0.0012374370164390986,\n",
       " 'MemorialDay': 0.0010447899991037264,\n",
       " \"Mother'sday\": 0.0008945560526338063,\n",
       " 'NBAFinalsEnd': 0.0012209487351802469,\n",
       " 'NBAFinalsStart': 0.0008801079101222549,\n",
       " 'NewYear': 0.0004836528078570807,\n",
       " 'None': 0.005231828029658608,\n",
       " 'OrthodoxChristmas': 0.0008589387237576967,\n",
       " 'OrthodoxEaster': 0.0009725928201508303,\n",
       " 'PesachEnd': 0.0010046641671613826,\n",
       " 'PresidentsDay': 0.0006671464181662372,\n",
       " 'PurimEnd': 0.0010912123814215318,\n",
       " 'Ramadanstarts': 0.0011058197621709803,\n",
       " 'StPatricksDay': 0.0009866676694029082,\n",
       " 'SuperBowl': 0.0009656685054703592,\n",
       " 'Thanksgiving': 0.00047760242473576065,\n",
       " 'ValentinesDay': 0.002529387656810517,\n",
       " 'VeteransDay': 0.0010235420795285837,\n",
       " 'x0_Friday': 0.019701689510049275,\n",
       " 'x0_Monday': 0.015190658562338748,\n",
       " 'x0_Saturday': 0.023981833537064373,\n",
       " 'x0_Sunday': 0.01876024356786982,\n",
       " 'x0_Thursday': 0.015815962740154326,\n",
       " 'x0_Tuesday': 0.01621098020706802,\n",
       " 'x0_Wednesday': 0.014971976618788239,\n",
       " 'x1_1': 0.008355647761577567,\n",
       " 'x1_2': 0.008303583545901758,\n",
       " 'x1_3': 0.009054402296842434,\n",
       " 'x1_4': 0.009237977054262228,\n",
       " 'x1_5': 0.00947871163935571,\n",
       " 'x1_6': 0.009820190449559929,\n",
       " 'x1_7': 0.010224436504523652,\n",
       " 'x1_8': 0.010064089378328363,\n",
       " 'x1_9': 0.011911059689217351,\n",
       " 'x1_10': 0.010456034146676198,\n",
       " 'x1_11': 0.009028851059406253,\n",
       " 'x1_12': 0.013980382008902677,\n",
       " 'sell_price': 0.010973938443321112,\n",
       " 'lag_28': 0.05561677384338314,\n",
       " 'lag_35': 0.05239520334148934,\n",
       " 'lag_42': 0.05201057812941175,\n",
       " 'lag_49': 0.05188730343682225,\n",
       " 'avg': 0.08913776242441779}"
      ]
     },
     "execution_count": 44,
     "metadata": {},
     "output_type": "execute_result"
    }
   ],
   "source": [
    "# use function for importances\n",
    "get_imp()"
   ]
  },
  {
   "cell_type": "markdown",
   "metadata": {},
   "source": [
    "## XGBoost"
   ]
  },
  {
   "cell_type": "markdown",
   "metadata": {},
   "source": [
    "Extreme Gradient Boost(XGBoost) is one of the most popular modern machine learning algorithms. It is a common winner of machine learning competitions and has been shown effictive in a vast range of domains. Even using the default arguments of the XGBoost algorithm can often give strong results, and these results can improve greatly when the hyperparameters are tuned. As mentioned earlier, this algorithm, unexpectedly, ran faster than the Random Forest algorithm. However, the results of this model was even worse than the first model with an average RMSE of 1.97, which was almost as bad as the first baseline model. It was also even more overfit than the first model, so the hyperparameters will need to be heavily tuned to get more value out of this."
   ]
  },
  {
   "cell_type": "code",
   "execution_count": 45,
   "metadata": {},
   "outputs": [],
   "source": [
    "preds = []\n",
    "train_scores = []\n",
    "test_scores = []\n",
    "importances = []\n",
    "for item in items:\n",
    "    ts = CA1_F1_price[CA1_F1_price['id'] == item].drop(columns=['id'])\n",
    "    train = ts[:'2016-03-28']\n",
    "    test = ts['2016-03-28':]\n",
    "    X_train = train.drop('sales', axis=1)\n",
    "    X_test = test.drop('sales', axis=1)\n",
    "    y_train = train['sales']\n",
    "    y_test = test['sales']\n",
    "    # fit to XGBRegressor with default arguments\n",
    "    xgb = XGBRegressor(random_state=42).fit(X_train, y_train)\n",
    "    preds.append(xgb.predict(X_test))\n",
    "    train_scores.append(xgb.score(X_train, y_train))\n",
    "    test_scores.append(xgb.score(X_test, y_test))\n",
    "    importances.append(dict(zip(cols, xgb.feature_importances_)))"
   ]
  },
  {
   "cell_type": "code",
   "execution_count": 46,
   "metadata": {
    "scrolled": true
   },
   "outputs": [
    {
     "data": {
      "text/plain": [
       "0.9160606916245376"
      ]
     },
     "execution_count": 46,
     "metadata": {},
     "output_type": "execute_result"
    }
   ],
   "source": [
    "# mean R-squared on training\n",
    "np.mean(train_scores)"
   ]
  },
  {
   "cell_type": "code",
   "execution_count": 47,
   "metadata": {},
   "outputs": [
    {
     "data": {
      "text/plain": [
       "-1.1666935250261343"
      ]
     },
     "execution_count": 47,
     "metadata": {},
     "output_type": "execute_result"
    }
   ],
   "source": [
    "# mean R-squared on testing\n",
    "np.mean(test_scores)"
   ]
  },
  {
   "cell_type": "code",
   "execution_count": 48,
   "metadata": {},
   "outputs": [
    {
     "data": {
      "text/plain": [
       "1.9671867585832188"
      ]
     },
     "execution_count": 48,
     "metadata": {},
     "output_type": "execute_result"
    }
   ],
   "source": [
    "# return average RMSE\n",
    "get_rmse()"
   ]
  },
  {
   "cell_type": "code",
   "execution_count": 49,
   "metadata": {
    "scrolled": true
   },
   "outputs": [
    {
     "data": {
      "text/plain": [
       "{'d': 0.028999506,\n",
       " 'wm_yr_wk': 0.0,\n",
       " 'snap_CA': 0.020771552,\n",
       " 'ChanukahEnd': 0.011113732,\n",
       " 'Christmas': 0.011568806,\n",
       " 'CincoDeMayo': 0.0077653164,\n",
       " 'ColumbusDay': 0.007399521,\n",
       " 'Easter': 0.011954689,\n",
       " 'EidAlAdha': 0.009162884,\n",
       " 'Eidal-Fitr': 0.010208428,\n",
       " \"Father'sday\": 0.0086688455,\n",
       " 'Halloween': 0.014120667,\n",
       " 'IndependenceDay': 0.009725765,\n",
       " 'LaborDay': 0.01041976,\n",
       " 'LentStart': 0.011618274,\n",
       " 'LentWeek2': 0.0064562056,\n",
       " 'MartinLutherKingDay': 0.008294864,\n",
       " 'MemorialDay': 0.007927818,\n",
       " \"Mother'sday\": 0.0074857497,\n",
       " 'NBAFinalsEnd': 0.008588989,\n",
       " 'NBAFinalsStart': 0.007066576,\n",
       " 'NewYear': 0.0061026835,\n",
       " 'None': 0.015455146,\n",
       " 'OrthodoxChristmas': 0.008311892,\n",
       " 'OrthodoxEaster': 0.007233133,\n",
       " 'PesachEnd': 0.007116974,\n",
       " 'PresidentsDay': 0.006952669,\n",
       " 'PurimEnd': 0.008307666,\n",
       " 'Ramadanstarts': 0.0082113715,\n",
       " 'StPatricksDay': 0.008119483,\n",
       " 'SuperBowl': 0.008140992,\n",
       " 'Thanksgiving': 0.00529331,\n",
       " 'ValentinesDay': 0.015003409,\n",
       " 'VeteransDay': 0.008113549,\n",
       " 'x0_Friday': 0.019287957,\n",
       " 'x0_Monday': 0.016701458,\n",
       " 'x0_Saturday': 0.026207827,\n",
       " 'x0_Sunday': 0.02028685,\n",
       " 'x0_Thursday': 0.01620951,\n",
       " 'x0_Tuesday': 0.016452905,\n",
       " 'x0_Wednesday': 0.015337993,\n",
       " 'x1_1': 0.029895095,\n",
       " 'x1_2': 0.026638247,\n",
       " 'x1_3': 0.030500099,\n",
       " 'x1_4': 0.028890409,\n",
       " 'x1_5': 0.03116824,\n",
       " 'x1_6': 0.03178246,\n",
       " 'x1_7': 0.031257823,\n",
       " 'x1_8': 0.03146936,\n",
       " 'x1_9': 0.03681021,\n",
       " 'x1_10': 0.033318415,\n",
       " 'x1_11': 0.03429809,\n",
       " 'x1_12': 0.046986204,\n",
       " 'sell_price': 0.024980865,\n",
       " 'lag_28': 0.022181794,\n",
       " 'lag_35': 0.022543862,\n",
       " 'lag_42': 0.02154144,\n",
       " 'lag_49': 0.023088895,\n",
       " 'avg': 0.030483771}"
      ]
     },
     "execution_count": 49,
     "metadata": {},
     "output_type": "execute_result"
    }
   ],
   "source": [
    "# return dict of importances\n",
    "get_imp()"
   ]
  },
  {
   "cell_type": "markdown",
   "metadata": {},
   "source": [
    "### XGBoost Model 2"
   ]
  },
  {
   "cell_type": "markdown",
   "metadata": {},
   "source": [
    "Tweedie loss is supposed to be good for distributions with a high proportion of zeros, and the results suggest that this was a great choice. While this model still needs a lot of improvement, now it is at least almost on par with the better baseline model, with an RMSE of 1.73. It is much less overfit to the training data now, but still needs some more regularization, which will be a good next step."
   ]
  },
  {
   "cell_type": "code",
   "execution_count": 50,
   "metadata": {},
   "outputs": [],
   "source": [
    "preds = []\n",
    "train_scores = []\n",
    "test_scores = []\n",
    "importances = []\n",
    "for item in items:\n",
    "    ts = CA1_F1_price[CA1_F1_price['id'] == item].drop(columns=['id'])\n",
    "    train = ts[:'2016-03-28']\n",
    "    test = ts['2016-03-28':]\n",
    "    X_train = train.drop('sales', axis=1)\n",
    "    X_test = test.drop('sales', axis=1)\n",
    "    y_train = train['sales']\n",
    "    y_test = test['sales']\n",
    "    # set objective to tweedie to fit predictions to tweedie distribution\n",
    "    xgb2 = XGBRegressor(random_state=42, objective='reg:tweedie').fit(X_train, y_train)\n",
    "    preds.append(xgb2.predict(X_test))\n",
    "    train_scores.append(xgb2.score(X_train, y_train))\n",
    "    test_scores.append(xgb2.score(X_test, y_test))\n",
    "    importances.append(dict(zip(cols, xgb2.feature_importances_)))"
   ]
  },
  {
   "cell_type": "code",
   "execution_count": 51,
   "metadata": {
    "scrolled": true
   },
   "outputs": [
    {
     "data": {
      "text/plain": [
       "0.8717568262817005"
      ]
     },
     "execution_count": 51,
     "metadata": {},
     "output_type": "execute_result"
    }
   ],
   "source": [
    "np.mean(train_scores)"
   ]
  },
  {
   "cell_type": "code",
   "execution_count": 52,
   "metadata": {},
   "outputs": [
    {
     "data": {
      "text/plain": [
       "-0.567660937689128"
      ]
     },
     "execution_count": 52,
     "metadata": {},
     "output_type": "execute_result"
    }
   ],
   "source": [
    "np.mean(test_scores)"
   ]
  },
  {
   "cell_type": "code",
   "execution_count": 53,
   "metadata": {},
   "outputs": [
    {
     "data": {
      "text/plain": [
       "1.7303743696414524"
      ]
     },
     "execution_count": 53,
     "metadata": {},
     "output_type": "execute_result"
    }
   ],
   "source": [
    "# return average RMSE\n",
    "get_rmse()"
   ]
  },
  {
   "cell_type": "code",
   "execution_count": 54,
   "metadata": {
    "scrolled": true
   },
   "outputs": [
    {
     "data": {
      "text/plain": [
       "{'d': 0.032245345,\n",
       " 'wm_yr_wk': 0.0,\n",
       " 'snap_CA': 0.018353257,\n",
       " 'ChanukahEnd': 0.008309086,\n",
       " 'Christmas': 0.041004755,\n",
       " 'CincoDeMayo': 0.00761557,\n",
       " 'ColumbusDay': 0.007632049,\n",
       " 'Easter': 0.008010554,\n",
       " 'EidAlAdha': 0.0071339705,\n",
       " 'Eidal-Fitr': 0.0067807976,\n",
       " \"Father'sday\": 0.0071282764,\n",
       " 'Halloween': 0.009651025,\n",
       " 'IndependenceDay': 0.007888835,\n",
       " 'LaborDay': 0.008188605,\n",
       " 'LentStart': 0.008128597,\n",
       " 'LentWeek2': 0.008507379,\n",
       " 'MartinLutherKingDay': 0.008708451,\n",
       " 'MemorialDay': 0.007198242,\n",
       " \"Mother'sday\": 0.006291358,\n",
       " 'NBAFinalsEnd': 0.008213843,\n",
       " 'NBAFinalsStart': 0.006708238,\n",
       " 'NewYear': 0.008775971,\n",
       " 'None': 0.01692668,\n",
       " 'OrthodoxChristmas': 0.007967221,\n",
       " 'OrthodoxEaster': 0.0065033026,\n",
       " 'PesachEnd': 0.007103803,\n",
       " 'PresidentsDay': 0.0065225544,\n",
       " 'PurimEnd': 0.00682425,\n",
       " 'Ramadanstarts': 0.0067189755,\n",
       " 'StPatricksDay': 0.006816915,\n",
       " 'SuperBowl': 0.009677587,\n",
       " 'Thanksgiving': 0.0109921275,\n",
       " 'ValentinesDay': 0.008592926,\n",
       " 'VeteransDay': 0.0073011825,\n",
       " 'x0_Friday': 0.016288713,\n",
       " 'x0_Monday': 0.016507072,\n",
       " 'x0_Saturday': 0.019397661,\n",
       " 'x0_Sunday': 0.017312111,\n",
       " 'x0_Thursday': 0.01638404,\n",
       " 'x0_Tuesday': 0.01641772,\n",
       " 'x0_Wednesday': 0.016050586,\n",
       " 'x1_1': 0.029547917,\n",
       " 'x1_2': 0.02725568,\n",
       " 'x1_3': 0.03337169,\n",
       " 'x1_4': 0.029655978,\n",
       " 'x1_5': 0.03238706,\n",
       " 'x1_6': 0.033570003,\n",
       " 'x1_7': 0.03740466,\n",
       " 'x1_8': 0.030386642,\n",
       " 'x1_9': 0.037917122,\n",
       " 'x1_10': 0.04095587,\n",
       " 'x1_11': 0.043169294,\n",
       " 'x1_12': 0.046687983,\n",
       " 'sell_price': 0.030205095,\n",
       " 'lag_28': 0.01681746,\n",
       " 'lag_35': 0.017079927,\n",
       " 'lag_42': 0.01689762,\n",
       " 'lag_49': 0.01759565,\n",
       " 'avg': 0.026314719}"
      ]
     },
     "execution_count": 54,
     "metadata": {},
     "output_type": "execute_result"
    }
   ],
   "source": [
    "# return dict of importances\n",
    "get_imp()"
   ]
  },
  {
   "cell_type": "markdown",
   "metadata": {},
   "source": [
    "### XGBoost Model 3"
   ]
  },
  {
   "cell_type": "markdown",
   "metadata": {},
   "source": [
    "Regularization really helped the model reduce overfitting. While there was a huge improvement, the model is still very overfit. However, the RMSE has reached 1.54, which is finally outperforming both of the baseline models. The model still has a negative coefficient of determination, which is suggests a lot of improvement can be made."
   ]
  },
  {
   "cell_type": "code",
   "execution_count": 55,
   "metadata": {},
   "outputs": [],
   "source": [
    "preds = []\n",
    "train_scores = []\n",
    "test_scores = []\n",
    "importances = []\n",
    "for item in items:\n",
    "    ts = CA1_F1_price[CA1_F1_price['id'] == item].drop(columns=['id'])\n",
    "    train = ts[:'2016-03-28']\n",
    "    test = ts['2016-03-28':]\n",
    "    X_train = train.drop('sales', axis=1)\n",
    "    X_test = test.drop('sales', axis=1)\n",
    "    y_train = train['sales']\n",
    "    y_test = test['sales']\n",
    "    # added l1 and l2 regularization\n",
    "    xgb3 = XGBRegressor(random_state=42, objective='reg:tweedie', reg_alpha=5, reg_lambda=5).fit(X_train, y_train)\n",
    "    preds.append(xgb3.predict(X_test))\n",
    "    train_scores.append(xgb3.score(X_train, y_train))\n",
    "    test_scores.append(xgb3.score(X_test, y_test))\n",
    "    importances.append(dict(zip(cols, xgb3.feature_importances_)))"
   ]
  },
  {
   "cell_type": "code",
   "execution_count": 56,
   "metadata": {
    "scrolled": true
   },
   "outputs": [
    {
     "data": {
      "text/plain": [
       "0.6785659786853302"
      ]
     },
     "execution_count": 56,
     "metadata": {},
     "output_type": "execute_result"
    }
   ],
   "source": [
    "np.mean(train_scores)"
   ]
  },
  {
   "cell_type": "code",
   "execution_count": 57,
   "metadata": {},
   "outputs": [
    {
     "data": {
      "text/plain": [
       "-0.23296383638873552"
      ]
     },
     "execution_count": 57,
     "metadata": {},
     "output_type": "execute_result"
    }
   ],
   "source": [
    "np.mean(test_scores)"
   ]
  },
  {
   "cell_type": "code",
   "execution_count": 58,
   "metadata": {},
   "outputs": [
    {
     "data": {
      "text/plain": [
       "1.544304111249151"
      ]
     },
     "execution_count": 58,
     "metadata": {},
     "output_type": "execute_result"
    }
   ],
   "source": [
    "# return average RMSE\n",
    "get_rmse()"
   ]
  },
  {
   "cell_type": "code",
   "execution_count": 59,
   "metadata": {
    "scrolled": true
   },
   "outputs": [
    {
     "data": {
      "text/plain": [
       "{'d': 0.048945446,\n",
       " 'wm_yr_wk': 0.0,\n",
       " 'snap_CA': 0.01736595,\n",
       " 'ChanukahEnd': 0.00917954,\n",
       " 'Christmas': 0.0445314,\n",
       " 'CincoDeMayo': 0.0064787115,\n",
       " 'ColumbusDay': 0.00869104,\n",
       " 'Easter': 0.008074566,\n",
       " 'EidAlAdha': 0.007102828,\n",
       " 'Eidal-Fitr': 0.007302305,\n",
       " \"Father'sday\": 0.0074213357,\n",
       " 'Halloween': 0.011037641,\n",
       " 'IndependenceDay': 0.009694539,\n",
       " 'LaborDay': 0.007946148,\n",
       " 'LentStart': 0.0098119965,\n",
       " 'LentWeek2': 0.010197224,\n",
       " 'MartinLutherKingDay': 0.009844167,\n",
       " 'MemorialDay': 0.006403624,\n",
       " \"Mother'sday\": 0.0067767864,\n",
       " 'NBAFinalsEnd': 0.008240353,\n",
       " 'NBAFinalsStart': 0.008824067,\n",
       " 'NewYear': 0.010218617,\n",
       " 'None': 0.0136310505,\n",
       " 'OrthodoxChristmas': 0.009041794,\n",
       " 'OrthodoxEaster': 0.008102555,\n",
       " 'PesachEnd': 0.006269693,\n",
       " 'PresidentsDay': 0.00785955,\n",
       " 'PurimEnd': 0.005988788,\n",
       " 'Ramadanstarts': 0.008404157,\n",
       " 'StPatricksDay': 0.008972239,\n",
       " 'SuperBowl': 0.010187066,\n",
       " 'Thanksgiving': 0.011262764,\n",
       " 'ValentinesDay': 0.008954936,\n",
       " 'VeteransDay': 0.007698416,\n",
       " 'x0_Friday': 0.014063126,\n",
       " 'x0_Monday': 0.015331579,\n",
       " 'x0_Saturday': 0.019881262,\n",
       " 'x0_Sunday': 0.016599154,\n",
       " 'x0_Thursday': 0.014516387,\n",
       " 'x0_Tuesday': 0.015678879,\n",
       " 'x0_Wednesday': 0.015237188,\n",
       " 'x1_1': 0.029322116,\n",
       " 'x1_2': 0.024893729,\n",
       " 'x1_3': 0.03210537,\n",
       " 'x1_4': 0.026668867,\n",
       " 'x1_5': 0.029805264,\n",
       " 'x1_6': 0.031215645,\n",
       " 'x1_7': 0.038047858,\n",
       " 'x1_8': 0.028032096,\n",
       " 'x1_9': 0.033891972,\n",
       " 'x1_10': 0.036454156,\n",
       " 'x1_11': 0.045991678,\n",
       " 'x1_12': 0.041972592,\n",
       " 'sell_price': 0.034220543,\n",
       " 'lag_28': 0.015327398,\n",
       " 'lag_35': 0.014123063,\n",
       " 'lag_42': 0.014363598,\n",
       " 'lag_49': 0.014802682,\n",
       " 'avg': 0.026992515}"
      ]
     },
     "execution_count": 59,
     "metadata": {},
     "output_type": "execute_result"
    }
   ],
   "source": [
    "# return dict of importances\n",
    "get_imp()"
   ]
  },
  {
   "cell_type": "markdown",
   "metadata": {},
   "source": [
    "### XGBoost Model 4"
   ]
  },
  {
   "cell_type": "markdown",
   "metadata": {},
   "source": [
    "The default max_depth for XGBoost is 3, and generally it is recommended to stay below 10. Typically a max depth of 4-8 is the best parameter for XGBoost, as you need the trees to be weak predictors. I tried reducing the max depth in order to reduce overfit, but it ended up causing underfit. Then I tried increasing the max_depth and bumping up regularization to combat overfitting. This seemed to result in overfit that regularization could not deal with. Increasing regularization did have a good effect, however the max_depth of 3 resulted in the best average RMSE. The RMSE was reduced to 1.47, but the model still has a negative coefficient of determination. Much progress will need to be made before this model is worth deploying. There seems to be too much noise to fit these models, or just as likely, there are too many important variables this model is missing."
   ]
  },
  {
   "cell_type": "code",
   "execution_count": 60,
   "metadata": {},
   "outputs": [],
   "source": [
    "preds = []\n",
    "train_scores = []\n",
    "test_scores = []\n",
    "importances = []\n",
    "for item in items:\n",
    "    ts = CA1_F1_price[CA1_F1_price['id'] == item].drop(columns=['id'])\n",
    "    train = ts[:'2016-03-28']\n",
    "    test = ts['2016-03-28':]\n",
    "    X_train = train.drop('sales', axis=1)\n",
    "    X_test = test.drop('sales', axis=1)\n",
    "    y_train = train['sales']\n",
    "    y_test = test['sales']\n",
    "    # left max_depth at default of 3 and bumped up l1 and l2 regularization to 25\n",
    "    xgb4 = XGBRegressor(random_state=42, objective='reg:tweedie', max_depth=3, reg_alpha=25, reg_lambda=25).fit(X_train, y_train)\n",
    "    preds.append(xgb4.predict(X_test))\n",
    "    train_scores.append(xgb4.score(X_train, y_train))\n",
    "    test_scores.append(xgb4.score(X_test, y_test))\n",
    "    importances.append(dict(zip(cols, xgb4.feature_importances_)))"
   ]
  },
  {
   "cell_type": "code",
   "execution_count": 61,
   "metadata": {
    "scrolled": true
   },
   "outputs": [
    {
     "data": {
      "text/plain": [
       "0.225347435583728"
      ]
     },
     "execution_count": 61,
     "metadata": {},
     "output_type": "execute_result"
    }
   ],
   "source": [
    "np.mean(train_scores)"
   ]
  },
  {
   "cell_type": "code",
   "execution_count": 62,
   "metadata": {},
   "outputs": [
    {
     "data": {
      "text/plain": [
       "-0.14892255326148632"
      ]
     },
     "execution_count": 62,
     "metadata": {},
     "output_type": "execute_result"
    }
   ],
   "source": [
    "np.mean(test_scores)"
   ]
  },
  {
   "cell_type": "code",
   "execution_count": 63,
   "metadata": {},
   "outputs": [
    {
     "data": {
      "text/plain": [
       "1.4742527782295138"
      ]
     },
     "execution_count": 63,
     "metadata": {},
     "output_type": "execute_result"
    }
   ],
   "source": [
    "# return average RMSE\n",
    "get_rmse()"
   ]
  },
  {
   "cell_type": "code",
   "execution_count": 64,
   "metadata": {
    "scrolled": true
   },
   "outputs": [
    {
     "data": {
      "text/plain": [
       "{'d': 0.11453462,\n",
       " 'wm_yr_wk': 0.0,\n",
       " 'snap_CA': 0.012602516,\n",
       " 'ChanukahEnd': 0.0016057836,\n",
       " 'Christmas': 0.02925956,\n",
       " 'CincoDeMayo': 0.0022497613,\n",
       " 'ColumbusDay': 0.0014691772,\n",
       " 'Easter': 0.0030411228,\n",
       " 'EidAlAdha': 0.00084533653,\n",
       " 'Eidal-Fitr': 0.0017338111,\n",
       " \"Father'sday\": 0.001687361,\n",
       " 'Halloween': 0.0037634578,\n",
       " 'IndependenceDay': 0.00334487,\n",
       " 'LaborDay': 0.0019199215,\n",
       " 'LentStart': 0.0036812099,\n",
       " 'LentWeek2': 0.0033802043,\n",
       " 'MartinLutherKingDay': 0.003780982,\n",
       " 'MemorialDay': 0.0029031632,\n",
       " \"Mother'sday\": 0.001209296,\n",
       " 'NBAFinalsEnd': 0.0015547634,\n",
       " 'NBAFinalsStart': 0.0026609357,\n",
       " 'NewYear': 0.0039238436,\n",
       " 'None': 0.011955236,\n",
       " 'OrthodoxChristmas': 0.0030862705,\n",
       " 'OrthodoxEaster': 0.0007089753,\n",
       " 'PesachEnd': 0.0013257692,\n",
       " 'PresidentsDay': 0.001485105,\n",
       " 'PurimEnd': 0.00061066664,\n",
       " 'Ramadanstarts': 0.0031482803,\n",
       " 'StPatricksDay': 0.0026736204,\n",
       " 'SuperBowl': 0.0021859144,\n",
       " 'Thanksgiving': 0.008025706,\n",
       " 'ValentinesDay': 0.0006093484,\n",
       " 'VeteransDay': 0.001459612,\n",
       " 'x0_Friday': 0.017497435,\n",
       " 'x0_Monday': 0.023253405,\n",
       " 'x0_Saturday': 0.023813428,\n",
       " 'x0_Sunday': 0.019152569,\n",
       " 'x0_Thursday': 0.017549476,\n",
       " 'x0_Tuesday': 0.026664173,\n",
       " 'x0_Wednesday': 0.023438634,\n",
       " 'x1_1': 0.03425273,\n",
       " 'x1_2': 0.029189317,\n",
       " 'x1_3': 0.03639538,\n",
       " 'x1_4': 0.024690893,\n",
       " 'x1_5': 0.031756703,\n",
       " 'x1_6': 0.028541572,\n",
       " 'x1_7': 0.03811806,\n",
       " 'x1_8': 0.023799228,\n",
       " 'x1_9': 0.04496487,\n",
       " 'x1_10': 0.036855053,\n",
       " 'x1_11': 0.047080614,\n",
       " 'x1_12': 0.03504253,\n",
       " 'sell_price': 0.028732207,\n",
       " 'lag_28': 0.027406799,\n",
       " 'lag_35': 0.017641095,\n",
       " 'lag_42': 0.017027231,\n",
       " 'lag_49': 0.018194135,\n",
       " 'avg': 0.09051627}"
      ]
     },
     "execution_count": 64,
     "metadata": {},
     "output_type": "execute_result"
    }
   ],
   "source": [
    "# return dict of importances\n",
    "get_imp()"
   ]
  },
  {
   "cell_type": "markdown",
   "metadata": {},
   "source": [
    "## LGBM Model"
   ]
  },
  {
   "cell_type": "markdown",
   "metadata": {},
   "source": [
    "Light gradient boosted machine algorithms are designed to work on the same principals as XGB, but work even faster. Many of the top models in the M5-Accuracy competition used the LGBM algorithm, and the faster speed makes it easier to tune hyperparameters for. The default arguments of the LGBM gave much better results than the default XGBoost algorithm, with significantly less overfitting. The default arguments achieved an RMSE of 1.58, which already outperforms baseline. However, more tuning will be needed if the LGBM model is to outperform XGBoost."
   ]
  },
  {
   "cell_type": "code",
   "execution_count": 65,
   "metadata": {},
   "outputs": [],
   "source": [
    "preds = []\n",
    "train_scores = []\n",
    "test_scores = []\n",
    "importances = []\n",
    "for item in items:\n",
    "    ts = CA1_F1_price[CA1_F1_price['id'] == item].drop(columns=['id'])\n",
    "    train = ts[:'2016-03-28']\n",
    "    test = ts['2016-03-28':]\n",
    "    X_train = train.drop('sales', axis=1)\n",
    "    X_test = test.drop('sales', axis=1)\n",
    "    y_train = train['sales']\n",
    "    y_test = test['sales']\n",
    "    # default arguments for LGBMRegressor\n",
    "    lgbm = LGBMRegressor(random_state=42).fit(X_train, y_train)\n",
    "    preds.append(lgbm.predict(X_test))\n",
    "    train_scores.append(lgbm.score(X_train, y_train))\n",
    "    test_scores.append(lgbm.score(X_test, y_test))\n",
    "    importances.append(dict(zip(cols, lgbm.feature_importances_)))"
   ]
  },
  {
   "cell_type": "code",
   "execution_count": 66,
   "metadata": {},
   "outputs": [
    {
     "data": {
      "text/plain": [
       "0.6231491889099577"
      ]
     },
     "execution_count": 66,
     "metadata": {},
     "output_type": "execute_result"
    }
   ],
   "source": [
    "np.mean(train_scores)"
   ]
  },
  {
   "cell_type": "code",
   "execution_count": 67,
   "metadata": {
    "scrolled": true
   },
   "outputs": [
    {
     "data": {
      "text/plain": [
       "-0.3385652572298986"
      ]
     },
     "execution_count": 67,
     "metadata": {},
     "output_type": "execute_result"
    }
   ],
   "source": [
    "np.mean(test_scores)"
   ]
  },
  {
   "cell_type": "code",
   "execution_count": 68,
   "metadata": {},
   "outputs": [
    {
     "data": {
      "text/plain": [
       "1.5794216034649093"
      ]
     },
     "execution_count": 68,
     "metadata": {},
     "output_type": "execute_result"
    }
   ],
   "source": [
    "# return average RMSE\n",
    "get_rmse()"
   ]
  },
  {
   "cell_type": "code",
   "execution_count": 69,
   "metadata": {
    "scrolled": true
   },
   "outputs": [
    {
     "data": {
      "text/plain": [
       "{'d': 919.4861111111111,\n",
       " 'wm_yr_wk': 332.1296296296296,\n",
       " 'snap_CA': 83.68518518518519,\n",
       " 'ChanukahEnd': 0.0,\n",
       " 'Christmas': 0.0,\n",
       " 'CincoDeMayo': 0.0,\n",
       " 'ColumbusDay': 0.0,\n",
       " 'Easter': 0.0,\n",
       " 'EidAlAdha': 0.0,\n",
       " 'Eidal-Fitr': 0.0,\n",
       " \"Father'sday\": 0.0,\n",
       " 'Halloween': 0.0,\n",
       " 'IndependenceDay': 0.0,\n",
       " 'LaborDay': 0.0,\n",
       " 'LentStart': 0.0,\n",
       " 'LentWeek2': 0.0,\n",
       " 'MartinLutherKingDay': 0.0,\n",
       " 'MemorialDay': 0.0,\n",
       " \"Mother'sday\": 0.0,\n",
       " 'NBAFinalsEnd': 0.0,\n",
       " 'NBAFinalsStart': 0.0,\n",
       " 'NewYear': 0.0,\n",
       " 'None': 24.435185185185187,\n",
       " 'OrthodoxChristmas': 0.0,\n",
       " 'OrthodoxEaster': 0.0,\n",
       " 'PesachEnd': 0.0,\n",
       " 'PresidentsDay': 0.0,\n",
       " 'PurimEnd': 0.0,\n",
       " 'Ramadanstarts': 0.0,\n",
       " 'StPatricksDay': 0.0,\n",
       " 'SuperBowl': 0.0,\n",
       " 'Thanksgiving': 0.0,\n",
       " 'ValentinesDay': 0.0,\n",
       " 'VeteransDay': 0.0,\n",
       " 'x0_Friday': 33.43981481481482,\n",
       " 'x0_Monday': 28.5,\n",
       " 'x0_Saturday': 40.907407407407405,\n",
       " 'x0_Sunday': 34.5,\n",
       " 'x0_Thursday': 26.930555555555557,\n",
       " 'x0_Tuesday': 27.833333333333332,\n",
       " 'x0_Wednesday': 26.21759259259259,\n",
       " 'x1_1': 17.291666666666668,\n",
       " 'x1_2': 17.837962962962962,\n",
       " 'x1_3': 19.23611111111111,\n",
       " 'x1_4': 17.63888888888889,\n",
       " 'x1_5': 18.194444444444443,\n",
       " 'x1_6': 19.15277777777778,\n",
       " 'x1_7': 19.555555555555557,\n",
       " 'x1_8': 19.212962962962962,\n",
       " 'x1_9': 19.578703703703702,\n",
       " 'x1_10': 19.62037037037037,\n",
       " 'x1_11': 19.11111111111111,\n",
       " 'x1_12': 23.87037037037037,\n",
       " 'sell_price': 16.59259259259259,\n",
       " 'lag_28': 205.2685185185185,\n",
       " 'lag_35': 198.25462962962962,\n",
       " 'lag_42': 195.57407407407408,\n",
       " 'lag_49': 192.2685185185185,\n",
       " 'avg': 346.2037037037037}"
      ]
     },
     "execution_count": 69,
     "metadata": {},
     "output_type": "execute_result"
    }
   ],
   "source": [
    "# return dict of importances\n",
    "get_imp()"
   ]
  },
  {
   "cell_type": "markdown",
   "metadata": {},
   "source": [
    "### LGBM Model 2"
   ]
  },
  {
   "cell_type": "markdown",
   "metadata": {},
   "source": [
    "While implementing the tweedie objective for the LGBM model did help, it didn't help nearly as much as the tweedie objective id for the XGBoost algorithm. The RMSE was brought down to 1.57, a slight improvement over the previous model, but it seems that other parameters will need to be tweaked for more improvement."
   ]
  },
  {
   "cell_type": "code",
   "execution_count": 70,
   "metadata": {},
   "outputs": [],
   "source": [
    "preds = []\n",
    "train_scores = []\n",
    "test_scores = []\n",
    "importances = []\n",
    "for item in items:\n",
    "    ts = CA1_F1_price[CA1_F1_price['id'] == item].drop(columns=['id'])\n",
    "    train = ts[:'2016-03-28']\n",
    "    test = ts['2016-03-28':]\n",
    "    X_train = train.drop('sales', axis=1)\n",
    "    X_test = test.drop('sales', axis=1)\n",
    "    y_train = train['sales']\n",
    "    y_test = test['sales']\n",
    "    # changed the objective hyperparemeter to tweedie\n",
    "    lgbm2 = LGBMRegressor(random_state=42, objective='tweedie').fit(X_train, y_train)\n",
    "    preds.append(lgbm2.predict(X_test))\n",
    "    train_scores.append(lgbm2.score(X_train, y_train))\n",
    "    test_scores.append(lgbm2.score(X_test, y_test))\n",
    "    importances.append(dict(zip(cols, lgbm2.feature_importances_)))"
   ]
  },
  {
   "cell_type": "code",
   "execution_count": 71,
   "metadata": {
    "scrolled": true
   },
   "outputs": [
    {
     "data": {
      "text/plain": [
       "0.6920178372604975"
      ]
     },
     "execution_count": 71,
     "metadata": {},
     "output_type": "execute_result"
    }
   ],
   "source": [
    "np.mean(train_scores)"
   ]
  },
  {
   "cell_type": "code",
   "execution_count": 72,
   "metadata": {},
   "outputs": [
    {
     "data": {
      "text/plain": [
       "-0.2980829367034139"
      ]
     },
     "execution_count": 72,
     "metadata": {},
     "output_type": "execute_result"
    }
   ],
   "source": [
    "np.mean(test_scores)"
   ]
  },
  {
   "cell_type": "code",
   "execution_count": 73,
   "metadata": {},
   "outputs": [
    {
     "data": {
      "text/plain": [
       "1.5667547227755494"
      ]
     },
     "execution_count": 73,
     "metadata": {},
     "output_type": "execute_result"
    }
   ],
   "source": [
    "# return average RMSE\n",
    "get_rmse()"
   ]
  },
  {
   "cell_type": "code",
   "execution_count": 74,
   "metadata": {
    "scrolled": true
   },
   "outputs": [
    {
     "data": {
      "text/plain": [
       "{'d': 948.1342592592592,\n",
       " 'wm_yr_wk': 375.61574074074076,\n",
       " 'snap_CA': 89.11111111111111,\n",
       " 'ChanukahEnd': 0.0,\n",
       " 'Christmas': 0.0,\n",
       " 'CincoDeMayo': 0.0,\n",
       " 'ColumbusDay': 0.0,\n",
       " 'Easter': 0.0,\n",
       " 'EidAlAdha': 0.0,\n",
       " 'Eidal-Fitr': 0.0,\n",
       " \"Father'sday\": 0.0,\n",
       " 'Halloween': 0.0,\n",
       " 'IndependenceDay': 0.0,\n",
       " 'LaborDay': 0.0,\n",
       " 'LentStart': 0.0,\n",
       " 'LentWeek2': 0.0,\n",
       " 'MartinLutherKingDay': 0.0,\n",
       " 'MemorialDay': 0.0,\n",
       " \"Mother'sday\": 0.0,\n",
       " 'NBAFinalsEnd': 0.0,\n",
       " 'NBAFinalsStart': 0.0,\n",
       " 'NewYear': 0.0,\n",
       " 'None': 26.72685185185185,\n",
       " 'OrthodoxChristmas': 0.0,\n",
       " 'OrthodoxEaster': 0.0,\n",
       " 'PesachEnd': 0.0,\n",
       " 'PresidentsDay': 0.0,\n",
       " 'PurimEnd': 0.0,\n",
       " 'Ramadanstarts': 0.0,\n",
       " 'StPatricksDay': 0.0,\n",
       " 'SuperBowl': 0.0,\n",
       " 'Thanksgiving': 0.0,\n",
       " 'ValentinesDay': 0.0,\n",
       " 'VeteransDay': 0.0,\n",
       " 'x0_Friday': 37.61574074074074,\n",
       " 'x0_Monday': 34.31481481481482,\n",
       " 'x0_Saturday': 42.38425925925926,\n",
       " 'x0_Sunday': 38.513888888888886,\n",
       " 'x0_Thursday': 33.03703703703704,\n",
       " 'x0_Tuesday': 35.495370370370374,\n",
       " 'x0_Wednesday': 33.52777777777778,\n",
       " 'x1_1': 21.11574074074074,\n",
       " 'x1_2': 19.412037037037038,\n",
       " 'x1_3': 19.86111111111111,\n",
       " 'x1_4': 17.550925925925927,\n",
       " 'x1_5': 19.64351851851852,\n",
       " 'x1_6': 19.087962962962962,\n",
       " 'x1_7': 21.060185185185187,\n",
       " 'x1_8': 18.63888888888889,\n",
       " 'x1_9': 20.13888888888889,\n",
       " 'x1_10': 20.40740740740741,\n",
       " 'x1_11': 22.680555555555557,\n",
       " 'x1_12': 22.60185185185185,\n",
       " 'sell_price': 14.25462962962963,\n",
       " 'lag_28': 180.28703703703704,\n",
       " 'lag_35': 176.42592592592592,\n",
       " 'lag_42': 176.91666666666666,\n",
       " 'lag_49': 177.39814814814815,\n",
       " 'avg': 303.0787037037037}"
      ]
     },
     "execution_count": 74,
     "metadata": {},
     "output_type": "execute_result"
    }
   ],
   "source": [
    "# return dict of importances\n",
    "get_imp()"
   ]
  },
  {
   "cell_type": "markdown",
   "metadata": {},
   "source": [
    "### LGBM Model 3"
   ]
  },
  {
   "cell_type": "markdown",
   "metadata": {},
   "source": [
    "The default arguments for LGBM do not specify max_depth, but instead limits the number of leaves to 31. In order to reduce overfitting, max_depth was set to 3, which would have a maximum of 8 leaves. Three was chosen as it matched the optimal depth of the XGBoost algorithm. This led to a much better RMSE of 1.53, but still needed a good bit of improvement in the overfitting department. "
   ]
  },
  {
   "cell_type": "code",
   "execution_count": 75,
   "metadata": {},
   "outputs": [],
   "source": [
    "preds = []\n",
    "train_scores = []\n",
    "test_scores = []\n",
    "importances = []\n",
    "for item in items:\n",
    "    ts = CA1_F1_price[CA1_F1_price['id'] == item].drop(columns=['id'])\n",
    "    train = ts[:'2016-03-28']\n",
    "    test = ts['2016-03-28':]\n",
    "    X_train = train.drop('sales', axis=1)\n",
    "    X_test = test.drop('sales', axis=1)\n",
    "    y_train = train['sales']\n",
    "    y_test = test['sales']\n",
    "    # changed max_depth parameter to 3\n",
    "    lgbm3 = LGBMRegressor(random_state=42, objective='tweedie', max_depth=3).fit(X_train, y_train)\n",
    "    preds.append(lgbm3.predict(X_test))\n",
    "    train_scores.append(lgbm3.score(X_train, y_train))\n",
    "    test_scores.append(lgbm3.score(X_test, y_test))\n",
    "    importances.append(dict(zip(cols, lgbm3.feature_importances_)))"
   ]
  },
  {
   "cell_type": "code",
   "execution_count": 76,
   "metadata": {
    "scrolled": true
   },
   "outputs": [
    {
     "data": {
      "text/plain": [
       "0.3173486254893772"
      ]
     },
     "execution_count": 76,
     "metadata": {},
     "output_type": "execute_result"
    }
   ],
   "source": [
    "np.mean(train_scores)"
   ]
  },
  {
   "cell_type": "code",
   "execution_count": 77,
   "metadata": {
    "scrolled": true
   },
   "outputs": [
    {
     "data": {
      "text/plain": [
       "-0.22673440194569652"
      ]
     },
     "execution_count": 77,
     "metadata": {},
     "output_type": "execute_result"
    }
   ],
   "source": [
    "np.mean(test_scores)"
   ]
  },
  {
   "cell_type": "code",
   "execution_count": 78,
   "metadata": {},
   "outputs": [
    {
     "data": {
      "text/plain": [
       "1.529020861241018"
      ]
     },
     "execution_count": 78,
     "metadata": {},
     "output_type": "execute_result"
    }
   ],
   "source": [
    "# return average RMSE\n",
    "get_rmse()"
   ]
  },
  {
   "cell_type": "code",
   "execution_count": 79,
   "metadata": {
    "scrolled": true
   },
   "outputs": [
    {
     "data": {
      "text/plain": [
       "{'d': 179.78703703703704,\n",
       " 'wm_yr_wk': 89.13425925925925,\n",
       " 'snap_CA': 14.319444444444445,\n",
       " 'ChanukahEnd': 0.0,\n",
       " 'Christmas': 0.0,\n",
       " 'CincoDeMayo': 0.0,\n",
       " 'ColumbusDay': 0.0,\n",
       " 'Easter': 0.0,\n",
       " 'EidAlAdha': 0.0,\n",
       " 'Eidal-Fitr': 0.0,\n",
       " \"Father'sday\": 0.0,\n",
       " 'Halloween': 0.0,\n",
       " 'IndependenceDay': 0.0,\n",
       " 'LaborDay': 0.0,\n",
       " 'LentStart': 0.0,\n",
       " 'LentWeek2': 0.0,\n",
       " 'MartinLutherKingDay': 0.0,\n",
       " 'MemorialDay': 0.0,\n",
       " \"Mother'sday\": 0.0,\n",
       " 'NBAFinalsEnd': 0.0,\n",
       " 'NBAFinalsStart': 0.0,\n",
       " 'NewYear': 0.0,\n",
       " 'None': 5.847222222222222,\n",
       " 'OrthodoxChristmas': 0.0,\n",
       " 'OrthodoxEaster': 0.0,\n",
       " 'PesachEnd': 0.0,\n",
       " 'PresidentsDay': 0.0,\n",
       " 'PurimEnd': 0.0,\n",
       " 'Ramadanstarts': 0.0,\n",
       " 'StPatricksDay': 0.0,\n",
       " 'SuperBowl': 0.0,\n",
       " 'Thanksgiving': 0.0,\n",
       " 'ValentinesDay': 0.0,\n",
       " 'VeteransDay': 0.0,\n",
       " 'x0_Friday': 8.101851851851851,\n",
       " 'x0_Monday': 6.916666666666667,\n",
       " 'x0_Saturday': 13.703703703703704,\n",
       " 'x0_Sunday': 10.023148148148149,\n",
       " 'x0_Thursday': 5.62037037037037,\n",
       " 'x0_Tuesday': 8.26388888888889,\n",
       " 'x0_Wednesday': 6.787037037037037,\n",
       " 'x1_1': 6.851851851851852,\n",
       " 'x1_2': 6.185185185185185,\n",
       " 'x1_3': 6.439814814814815,\n",
       " 'x1_4': 5.856481481481482,\n",
       " 'x1_5': 6.083333333333333,\n",
       " 'x1_6': 5.824074074074074,\n",
       " 'x1_7': 7.074074074074074,\n",
       " 'x1_8': 5.75,\n",
       " 'x1_9': 6.523148148148148,\n",
       " 'x1_10': 7.069444444444445,\n",
       " 'x1_11': 8.569444444444445,\n",
       " 'x1_12': 8.310185185185185,\n",
       " 'sell_price': 4.972222222222222,\n",
       " 'lag_28': 26.708333333333332,\n",
       " 'lag_35': 26.24074074074074,\n",
       " 'lag_42': 26.162037037037038,\n",
       " 'lag_49': 26.62037037037037,\n",
       " 'avg': 47.699074074074076}"
      ]
     },
     "execution_count": 79,
     "metadata": {},
     "output_type": "execute_result"
    }
   ],
   "source": [
    "# return dict of importances\n",
    "get_imp()"
   ]
  },
  {
   "cell_type": "markdown",
   "metadata": {},
   "source": [
    "### LGBM Model 4"
   ]
  },
  {
   "cell_type": "markdown",
   "metadata": {},
   "source": [
    "To further reduce overfitting, l1 and l2 regularization was added. This brought the RMSE down to 1.47, on par with the best RMSE of the XGBoost algorithms, albeit with a worse R-squared. Perhaps the depth of 3 is too small since the LGBM models don't overfit as much as the XGBoost models. I'll experiment with that in the next model."
   ]
  },
  {
   "cell_type": "code",
   "execution_count": 80,
   "metadata": {},
   "outputs": [],
   "source": [
    "preds = []\n",
    "train_scores = []\n",
    "test_scores = []\n",
    "importances = []\n",
    "for item in items:\n",
    "    ts = CA1_F1_price[CA1_F1_price['id'] == item].drop(columns=['id'])\n",
    "    train = ts[:'2016-03-28']\n",
    "    test = ts['2016-03-28':]\n",
    "    X_train = train.drop('sales', axis=1)\n",
    "    X_test = test.drop('sales', axis=1)\n",
    "    y_train = train['sales']\n",
    "    y_test = test['sales']\n",
    "    # set l1 and l2 regularization to 10\n",
    "    lgbm4 = LGBMRegressor(random_state=42, objective='tweedie', max_depth=3, reg_alpha=10, reg_lambda=10).fit(X_train, y_train)\n",
    "    preds.append(lgbm4.predict(X_test))\n",
    "    train_scores.append(lgbm4.score(X_train, y_train))\n",
    "    test_scores.append(lgbm4.score(X_test, y_test))\n",
    "    importances.append(dict(zip(cols, lgbm4.feature_importances_)))"
   ]
  },
  {
   "cell_type": "code",
   "execution_count": 81,
   "metadata": {
    "scrolled": true
   },
   "outputs": [
    {
     "data": {
      "text/plain": [
       "0.24732014727022897"
      ]
     },
     "execution_count": 81,
     "metadata": {},
     "output_type": "execute_result"
    }
   ],
   "source": [
    "np.mean(train_scores)"
   ]
  },
  {
   "cell_type": "code",
   "execution_count": 82,
   "metadata": {},
   "outputs": [
    {
     "data": {
      "text/plain": [
       "-0.16713719880589933"
      ]
     },
     "execution_count": 82,
     "metadata": {},
     "output_type": "execute_result"
    }
   ],
   "source": [
    "np.mean(test_scores)"
   ]
  },
  {
   "cell_type": "code",
   "execution_count": 83,
   "metadata": {},
   "outputs": [
    {
     "data": {
      "text/plain": [
       "1.4738177095328013"
      ]
     },
     "execution_count": 83,
     "metadata": {},
     "output_type": "execute_result"
    }
   ],
   "source": [
    "# return average RMSE\n",
    "get_rmse()"
   ]
  },
  {
   "cell_type": "code",
   "execution_count": 84,
   "metadata": {
    "scrolled": true
   },
   "outputs": [
    {
     "data": {
      "text/plain": [
       "{'d': 190.91666666666666,\n",
       " 'wm_yr_wk': 95.9675925925926,\n",
       " 'snap_CA': 10.069444444444445,\n",
       " 'ChanukahEnd': 0.0,\n",
       " 'Christmas': 0.0,\n",
       " 'CincoDeMayo': 0.0,\n",
       " 'ColumbusDay': 0.0,\n",
       " 'Easter': 0.0,\n",
       " 'EidAlAdha': 0.0,\n",
       " 'Eidal-Fitr': 0.0,\n",
       " \"Father'sday\": 0.0,\n",
       " 'Halloween': 0.0,\n",
       " 'IndependenceDay': 0.0,\n",
       " 'LaborDay': 0.0,\n",
       " 'LentStart': 0.0,\n",
       " 'LentWeek2': 0.0,\n",
       " 'MartinLutherKingDay': 0.0,\n",
       " 'MemorialDay': 0.0,\n",
       " \"Mother'sday\": 0.0,\n",
       " 'NBAFinalsEnd': 0.0,\n",
       " 'NBAFinalsStart': 0.0,\n",
       " 'NewYear': 0.0,\n",
       " 'None': 4.041666666666667,\n",
       " 'OrthodoxChristmas': 0.0,\n",
       " 'OrthodoxEaster': 0.0,\n",
       " 'PesachEnd': 0.0,\n",
       " 'PresidentsDay': 0.0,\n",
       " 'PurimEnd': 0.0,\n",
       " 'Ramadanstarts': 0.0,\n",
       " 'StPatricksDay': 0.0,\n",
       " 'SuperBowl': 0.0,\n",
       " 'Thanksgiving': 0.0,\n",
       " 'ValentinesDay': 0.0,\n",
       " 'VeteransDay': 0.0,\n",
       " 'x0_Friday': 7.935185185185185,\n",
       " 'x0_Monday': 6.180555555555555,\n",
       " 'x0_Saturday': 15.5,\n",
       " 'x0_Sunday': 10.99537037037037,\n",
       " 'x0_Thursday': 4.962962962962963,\n",
       " 'x0_Tuesday': 7.939814814814815,\n",
       " 'x0_Wednesday': 5.523148148148148,\n",
       " 'x1_1': 5.430555555555555,\n",
       " 'x1_2': 5.138888888888889,\n",
       " 'x1_3': 5.472222222222222,\n",
       " 'x1_4': 4.560185185185185,\n",
       " 'x1_5': 4.773148148148148,\n",
       " 'x1_6': 5.439814814814815,\n",
       " 'x1_7': 6.592592592592593,\n",
       " 'x1_8': 5.324074074074074,\n",
       " 'x1_9': 6.194444444444445,\n",
       " 'x1_10': 6.328703703703703,\n",
       " 'x1_11': 7.962962962962963,\n",
       " 'x1_12': 8.439814814814815,\n",
       " 'sell_price': 6.777777777777778,\n",
       " 'lag_28': 24.09259259259259,\n",
       " 'lag_35': 21.537037037037038,\n",
       " 'lag_42': 22.546296296296298,\n",
       " 'lag_49': 23.439814814814813,\n",
       " 'avg': 45.22222222222222}"
      ]
     },
     "execution_count": 84,
     "metadata": {},
     "output_type": "execute_result"
    }
   ],
   "source": [
    "# return dict of importances\n",
    "get_imp()"
   ]
  },
  {
   "cell_type": "markdown",
   "metadata": {},
   "source": [
    "### LGBM Model 5"
   ]
  },
  {
   "cell_type": "markdown",
   "metadata": {},
   "source": [
    "I figured that it would be a good idea to capture more complexity in the model here by increasing the size of the trees, but balanced out the complexity by bumping up the regularization to higher levels to parse through the noise. This gave a slightly better RMSE of 1.47"
   ]
  },
  {
   "cell_type": "code",
   "execution_count": 85,
   "metadata": {},
   "outputs": [],
   "source": [
    "preds = []\n",
    "train_scores = []\n",
    "test_scores = []\n",
    "importances = []\n",
    "for item in items:\n",
    "    ts = CA1_F1_price[CA1_F1_price['id'] == item].drop(columns=['id'])\n",
    "    train = ts[:'2016-03-28']\n",
    "    test = ts['2016-03-28':]\n",
    "    X_train = train.drop('sales', axis=1)\n",
    "    X_test = test.drop('sales', axis=1)\n",
    "    y_train = train['sales']\n",
    "    y_test = test['sales']\n",
    "    # changed num_leaves to 64 and max_depth 6, and bumped up regularization\n",
    "    lgbm5 = LGBMRegressor(random_state=42, objective='tweedie', num_leaves=64, max_depth=6, reg_alpha=20, reg_lambda=20).fit(X_train, y_train)\n",
    "    preds.append(lgbm5.predict(X_test))\n",
    "    train_scores.append(lgbm5.score(X_train, y_train))\n",
    "    test_scores.append(lgbm5.score(X_test, y_test))\n",
    "    importances.append(dict(zip(cols, lgbm5.feature_importances_)))"
   ]
  },
  {
   "cell_type": "code",
   "execution_count": 86,
   "metadata": {
    "scrolled": true
   },
   "outputs": [
    {
     "data": {
      "text/plain": [
       "0.24443125477495545"
      ]
     },
     "execution_count": 86,
     "metadata": {},
     "output_type": "execute_result"
    }
   ],
   "source": [
    "np.mean(train_scores)"
   ]
  },
  {
   "cell_type": "code",
   "execution_count": 87,
   "metadata": {},
   "outputs": [
    {
     "data": {
      "text/plain": [
       "-0.18778630355894385"
      ]
     },
     "execution_count": 87,
     "metadata": {},
     "output_type": "execute_result"
    }
   ],
   "source": [
    "np.mean(test_scores)"
   ]
  },
  {
   "cell_type": "code",
   "execution_count": 88,
   "metadata": {},
   "outputs": [
    {
     "data": {
      "text/plain": [
       "1.471088475091799"
      ]
     },
     "execution_count": 88,
     "metadata": {},
     "output_type": "execute_result"
    }
   ],
   "source": [
    "# return average RMSE\n",
    "get_rmse()"
   ]
  },
  {
   "cell_type": "code",
   "execution_count": 89,
   "metadata": {
    "scrolled": true
   },
   "outputs": [
    {
     "data": {
      "text/plain": [
       "{'d': 374.43981481481484,\n",
       " 'wm_yr_wk': 210.9212962962963,\n",
       " 'snap_CA': 8.407407407407407,\n",
       " 'ChanukahEnd': 0.0,\n",
       " 'Christmas': 0.0,\n",
       " 'CincoDeMayo': 0.0,\n",
       " 'ColumbusDay': 0.0,\n",
       " 'Easter': 0.0,\n",
       " 'EidAlAdha': 0.0,\n",
       " 'Eidal-Fitr': 0.0,\n",
       " \"Father'sday\": 0.0,\n",
       " 'Halloween': 0.0,\n",
       " 'IndependenceDay': 0.0,\n",
       " 'LaborDay': 0.0,\n",
       " 'LentStart': 0.0,\n",
       " 'LentWeek2': 0.0,\n",
       " 'MartinLutherKingDay': 0.0,\n",
       " 'MemorialDay': 0.0,\n",
       " \"Mother'sday\": 0.0,\n",
       " 'NBAFinalsEnd': 0.0,\n",
       " 'NBAFinalsStart': 0.0,\n",
       " 'NewYear': 0.0,\n",
       " 'None': 4.148148148148148,\n",
       " 'OrthodoxChristmas': 0.0,\n",
       " 'OrthodoxEaster': 0.0,\n",
       " 'PesachEnd': 0.0,\n",
       " 'PresidentsDay': 0.0,\n",
       " 'PurimEnd': 0.0,\n",
       " 'Ramadanstarts': 0.0,\n",
       " 'StPatricksDay': 0.0,\n",
       " 'SuperBowl': 0.0,\n",
       " 'Thanksgiving': 0.0,\n",
       " 'ValentinesDay': 0.0,\n",
       " 'VeteransDay': 0.0,\n",
       " 'x0_Friday': 10.217592592592593,\n",
       " 'x0_Monday': 7.958333333333333,\n",
       " 'x0_Saturday': 22.63888888888889,\n",
       " 'x0_Sunday': 13.439814814814815,\n",
       " 'x0_Thursday': 6.2407407407407405,\n",
       " 'x0_Tuesday': 10.300925925925926,\n",
       " 'x0_Wednesday': 7.467592592592593,\n",
       " 'x1_1': 7.319444444444445,\n",
       " 'x1_2': 6.939814814814815,\n",
       " 'x1_3': 6.541666666666667,\n",
       " 'x1_4': 5.194444444444445,\n",
       " 'x1_5': 6.046296296296297,\n",
       " 'x1_6': 8.88425925925926,\n",
       " 'x1_7': 9.231481481481481,\n",
       " 'x1_8': 7.407407407407407,\n",
       " 'x1_9': 8.587962962962964,\n",
       " 'x1_10': 8.36574074074074,\n",
       " 'x1_11': 10.203703703703704,\n",
       " 'x1_12': 10.88425925925926,\n",
       " 'sell_price': 7.587962962962963,\n",
       " 'lag_28': 41.208333333333336,\n",
       " 'lag_35': 39.44444444444444,\n",
       " 'lag_42': 42.09722222222222,\n",
       " 'lag_49': 36.2962962962963,\n",
       " 'avg': 79.39814814814815}"
      ]
     },
     "execution_count": 89,
     "metadata": {},
     "output_type": "execute_result"
    }
   ],
   "source": [
    "# return dict of importances\n",
    "get_imp()"
   ]
  },
  {
   "cell_type": "markdown",
   "metadata": {},
   "source": [
    "## Final Model"
   ]
  },
  {
   "cell_type": "markdown",
   "metadata": {},
   "source": [
    "While XGBoost achieved better numbers for the coefficient of determination, the LGBM models had better RMSEs. I decided to choose this LGBM model because it is faster than the XGBoost model and the RMSE is the metric I value more. The final model has similiar parameters to the tuned LGBM model 5, but I did a little bit of tweaking to get a little more accuracy out of it. The final RMSE was 1.46. Despite this being my final model, there is still a lot of improvement that needs to be made before it is of much value. I never got the R-squared positive for the model, which means that I must have been missing some useful patterns by not having the right features. My model included variables that would be able to replicate time series data, such as lags, rolling means, and weekdays, but vastly underperformed models that used N-BEATS, which is made for time series data. This model is a decent start, but is missing factors that could make it competitive with the top models from the competition. I may need to expand my knowledge before I can make a model on par with others. "
   ]
  },
  {
   "cell_type": "code",
   "execution_count": 90,
   "metadata": {},
   "outputs": [],
   "source": [
    "preds = []\n",
    "train_scores = []\n",
    "test_scores = []\n",
    "importances = []\n",
    "for item in items:\n",
    "    ts = CA1_F1_price[CA1_F1_price['id'] == item].drop(columns=['id'])\n",
    "    train = ts[:'2016-03-28']\n",
    "    test = ts['2016-03-28':]\n",
    "    X_train = train.drop('sales', axis=1)\n",
    "    X_test = test.drop('sales', axis=1)\n",
    "    y_train = train['sales']\n",
    "    y_test = test['sales']\n",
    "    # increase the number of estimators to 500, increase the depth of trees, and slightly increase the regularization\n",
    "    lgbm6 = LGBMRegressor(random_state=42, n_estimators=500, objective='tweedie', max_depth=8, num_leaves=64, reg_alpha=22, reg_lambda=22).fit(X_train, y_train)\n",
    "    preds.append(lgbm6.predict(X_test))\n",
    "    train_scores.append(lgbm6.score(X_train, y_train))\n",
    "    test_scores.append(lgbm6.score(X_test, y_test))\n",
    "    importances.append(dict(zip(cols, lgbm6.feature_importances_)))"
   ]
  },
  {
   "cell_type": "code",
   "execution_count": 91,
   "metadata": {
    "scrolled": true
   },
   "outputs": [
    {
     "data": {
      "text/plain": [
       "0.24061940543395086"
      ]
     },
     "execution_count": 91,
     "metadata": {},
     "output_type": "execute_result"
    }
   ],
   "source": [
    "np.mean(train_scores)"
   ]
  },
  {
   "cell_type": "code",
   "execution_count": 92,
   "metadata": {},
   "outputs": [
    {
     "data": {
      "text/plain": [
       "-0.1855647671614698"
      ]
     },
     "execution_count": 92,
     "metadata": {},
     "output_type": "execute_result"
    }
   ],
   "source": [
    "np.mean(test_scores)"
   ]
  },
  {
   "cell_type": "code",
   "execution_count": 93,
   "metadata": {},
   "outputs": [
    {
     "data": {
      "text/plain": [
       "1.463227842223587"
      ]
     },
     "execution_count": 93,
     "metadata": {},
     "output_type": "execute_result"
    }
   ],
   "source": [
    "# return average RMSE\n",
    "get_rmse()"
   ]
  },
  {
   "cell_type": "code",
   "execution_count": 94,
   "metadata": {
    "scrolled": true
   },
   "outputs": [
    {
     "data": {
      "text/plain": [
       "{'d': 503.6388888888889,\n",
       " 'wm_yr_wk': 318.31944444444446,\n",
       " 'snap_CA': 9.087962962962964,\n",
       " 'ChanukahEnd': 0.0,\n",
       " 'Christmas': 0.0,\n",
       " 'CincoDeMayo': 0.0,\n",
       " 'ColumbusDay': 0.0,\n",
       " 'Easter': 0.0,\n",
       " 'EidAlAdha': 0.0,\n",
       " 'Eidal-Fitr': 0.0,\n",
       " \"Father'sday\": 0.0,\n",
       " 'Halloween': 0.0,\n",
       " 'IndependenceDay': 0.0,\n",
       " 'LaborDay': 0.0,\n",
       " 'LentStart': 0.0,\n",
       " 'LentWeek2': 0.0,\n",
       " 'MartinLutherKingDay': 0.0,\n",
       " 'MemorialDay': 0.0,\n",
       " \"Mother'sday\": 0.0,\n",
       " 'NBAFinalsEnd': 0.0,\n",
       " 'NBAFinalsStart': 0.0,\n",
       " 'NewYear': 0.0,\n",
       " 'None': 6.037037037037037,\n",
       " 'OrthodoxChristmas': 0.0,\n",
       " 'OrthodoxEaster': 0.0,\n",
       " 'PesachEnd': 0.0,\n",
       " 'PresidentsDay': 0.0,\n",
       " 'PurimEnd': 0.0,\n",
       " 'Ramadanstarts': 0.0,\n",
       " 'StPatricksDay': 0.0,\n",
       " 'SuperBowl': 0.0,\n",
       " 'Thanksgiving': 0.0,\n",
       " 'ValentinesDay': 0.0,\n",
       " 'VeteransDay': 0.0,\n",
       " 'x0_Friday': 11.75462962962963,\n",
       " 'x0_Monday': 8.708333333333334,\n",
       " 'x0_Saturday': 27.708333333333332,\n",
       " 'x0_Sunday': 19.203703703703702,\n",
       " 'x0_Thursday': 6.708333333333333,\n",
       " 'x0_Tuesday': 10.430555555555555,\n",
       " 'x0_Wednesday': 9.310185185185185,\n",
       " 'x1_1': 11.125,\n",
       " 'x1_2': 11.837962962962964,\n",
       " 'x1_3': 8.208333333333334,\n",
       " 'x1_4': 6.481481481481482,\n",
       " 'x1_5': 6.925925925925926,\n",
       " 'x1_6': 12.800925925925926,\n",
       " 'x1_7': 15.851851851851851,\n",
       " 'x1_8': 9.597222222222221,\n",
       " 'x1_9': 12.708333333333334,\n",
       " 'x1_10': 12.36574074074074,\n",
       " 'x1_11': 16.12037037037037,\n",
       " 'x1_12': 14.523148148148149,\n",
       " 'sell_price': 9.930555555555555,\n",
       " 'lag_28': 46.361111111111114,\n",
       " 'lag_35': 43.300925925925924,\n",
       " 'lag_42': 51.333333333333336,\n",
       " 'lag_49': 45.0462962962963,\n",
       " 'avg': 87.31481481481481}"
      ]
     },
     "execution_count": 94,
     "metadata": {},
     "output_type": "execute_result"
    }
   ],
   "source": [
    "# return dict of importances\n",
    "feat_importance = get_imp()\n",
    "feat_importance"
   ]
  },
  {
   "cell_type": "markdown",
   "metadata": {},
   "source": [
    "### Final Model Visualizations"
   ]
  },
  {
   "cell_type": "markdown",
   "metadata": {},
   "source": [
    "While the model didn't perform much better than baseline, it still showed a few promising patterns. You can see an obvious weekly pattern emerge from the graph of items 7's prediction. The item was sold at a low frequency, so there was never a full item predicted to be sold, but sometimes an item is sold. While this model would never predict a unit to be sold for any individual day, it would predict a unit to be sold once every 4 or 5 days. This isn't an ideal replication, but it is getting at representing the infrequency of units sold for this item, which is worth something."
   ]
  },
  {
   "cell_type": "code",
   "execution_count": 95,
   "metadata": {},
   "outputs": [],
   "source": [
    "# set the seaborn context to poster to make graphs better for presentations\n",
    "sns.set_context('poster')"
   ]
  },
  {
   "cell_type": "code",
   "execution_count": 97,
   "metadata": {},
   "outputs": [],
   "source": [
    "# make the 7th prediction array into a series with a datetime index\n",
    "pred = pd.Series(preds[7], index=trues[7].index)"
   ]
  },
  {
   "cell_type": "code",
   "execution_count": 98,
   "metadata": {
    "scrolled": true
   },
   "outputs": [
    {
     "data": {
      "image/png": "[encoded data removed]",
      "text/plain": [
       "<Figure size 1080x576 with 1 Axes>"
      ]
     },
     "metadata": {
      "needs_background": "light"
     },
     "output_type": "display_data"
    }
   ],
   "source": [
    "# visualize the models performance on an item with no sales\n",
    "pred = pd.Series(preds[7], index=trues[7].index)\n",
    "fig, ax = plt.subplots(figsize=(15, 8))\n",
    "sns.lineplot(data=trues[7], ax=ax)\n",
    "sns.lineplot(data=pred, ax=ax)\n",
    "ax.set_xticks(['2016-03-28', '2016-04-03', '2016-04-09', '2016-04-15', '2016-04-21'])\n",
    "ax.set_ybound(.35)\n",
    "ax.set_ylim(-.05)\n",
    "ax.set_ylabel('Sold')\n",
    "ax.set_xlabel('Date')\n",
    "ax.set_title('Units Sold per Day')\n",
    "ax.legend(['True', 'Predicted'])\n",
    "plt.savefig('../images/no_units_forecast.jpeg', facecolor='white');"
   ]
  },
  {
   "cell_type": "markdown",
   "metadata": {},
   "source": [
    "I also graphed how the model fared for predicting the highest selling product in the department. It ended up always predicting much closer to the average number of sales and never predicting as low for the low volumne days or as high as the high volume days. This is definitely expected given just how much of sales are up to random chance, but models from others seemed to do a better job catching more of this randomness after looking through some of the kaggle results. You see this pattern pretty clearly in the graph the Total Units Sold per Day graph below as well. It shows the total number of items sold in the department every day. However, the model did do much better when predicting total sales for the items across the entire 28 days. For example, the model predicted 288 units sold for FOODS1 Item 218 across the 28 days. This was only 47 more than the 241 that were actually sold in that period, and this was for the highest selling item. When I compared the predicted total units sold with the actual units sold across the 28 days, the RMSE was only 23.1 units. When you spread this RMSE of 23.1 units across 28 days, the results seem a little more acceptable. "
   ]
  },
  {
   "cell_type": "code",
   "execution_count": 99,
   "metadata": {
    "scrolled": true
   },
   "outputs": [
    {
     "data": {
      "text/plain": [
       "id\n",
       "FOODS_1_218_CA_1_validation    22196\n",
       "Name: sales, dtype: int64"
      ]
     },
     "execution_count": 99,
     "metadata": {},
     "output_type": "execute_result"
    }
   ],
   "source": [
    "# Find the item with the most sales\n",
    "CA1_F1_price.groupby('id')['sales'].sum().sort_values().tail(1)"
   ]
  },
  {
   "cell_type": "code",
   "execution_count": 100,
   "metadata": {},
   "outputs": [
    {
     "name": "stdout",
     "output_type": "stream",
     "text": [
      "214\n"
     ]
    }
   ],
   "source": [
    "# print the index of the item above \n",
    "for i, item in enumerate(items):\n",
    "    if item == 'FOODS_1_218_CA_1_validation':\n",
    "        print(i)"
   ]
  },
  {
   "cell_type": "code",
   "execution_count": 101,
   "metadata": {
    "scrolled": true
   },
   "outputs": [
    {
     "data": {
      "image/png": "[encoded data removed]",
      "text/plain": [
       "<Figure size 1080x576 with 1 Axes>"
      ]
     },
     "metadata": {
      "needs_background": "light"
     },
     "output_type": "display_data"
    }
   ],
   "source": [
    "# visualize the models performance on the item with the most sales\n",
    "pred = pd.Series(preds[214], index=trues[214].index)\n",
    "fig, ax = plt.subplots(figsize=(15, 8))\n",
    "sns.lineplot(data=trues[214], ax=ax)\n",
    "sns.lineplot(data=pred, ax=ax)\n",
    "ax.legend(['True', 'Predicted'])\n",
    "ax.set_ylabel('Sold')\n",
    "ax.set_xlabel('Date')\n",
    "ax.set_xticks(['2016-03-28', '2016-04-03', '2016-04-09', '2016-04-15', '2016-04-21'])\n",
    "ax.set_title('Units Sold per Day')\n",
    "plt.savefig('../images/many_units_forecast.jpeg', facecolor='white');"
   ]
  },
  {
   "cell_type": "code",
   "execution_count": 102,
   "metadata": {},
   "outputs": [],
   "source": [
    "# list of total number of items predicted to sell and actually sold\n",
    "monthly_preds = []\n",
    "monthly_trues = []\n",
    "for i in range(28):\n",
    "    daily_preds = []\n",
    "    for pred in preds:\n",
    "        daily_preds.append(pred[i])\n",
    "    monthly_preds.append(sum(daily_preds))\n",
    "    daily_trues = []\n",
    "    for true in trues:\n",
    "        daily_trues.append(true[i])\n",
    "    monthly_trues.append(sum(daily_trues))"
   ]
  },
  {
   "cell_type": "code",
   "execution_count": 103,
   "metadata": {},
   "outputs": [],
   "source": [
    "# add datetime index to the lists made above\n",
    "monthly_trues = pd.Series(monthly_trues, index=trues[0].index)\n",
    "monthly_preds = pd.Series(monthly_preds, index=trues[0].index)"
   ]
  },
  {
   "cell_type": "code",
   "execution_count": 104,
   "metadata": {
    "scrolled": false
   },
   "outputs": [
    {
     "data": {
      "image/png": "[encoded data removed]",
      "text/plain": [
       "<Figure size 1080x648 with 1 Axes>"
      ]
     },
     "metadata": {
      "needs_background": "light"
     },
     "output_type": "display_data"
    }
   ],
   "source": [
    "# visualize how the model predicted total units sold per day\n",
    "fig, ax = plt.subplots(figsize=(15,9))\n",
    "sns.lineplot(data=monthly_trues, ax=ax)\n",
    "sns.lineplot(data=monthly_preds, ax=ax)\n",
    "ax.legend(['True', 'Predicted'])\n",
    "ax.legend(['True', 'Predicted'])\n",
    "ax.set_ylabel('Sold')\n",
    "ax.set_xlabel('Date')\n",
    "ax.set_xticks(['2016-03-28', '2016-04-03', '2016-04-09', '2016-04-15', '2016-04-21'])\n",
    "ax.set_title('Total Units Sold per Day')\n",
    "plt.savefig('../images/total_units_sold_forecast.jpeg', facecolor='white');"
   ]
  },
  {
   "cell_type": "code",
   "execution_count": 105,
   "metadata": {},
   "outputs": [],
   "source": [
    "# 28 day total of units predicted to be sold for every item \n",
    "pred_totals = []\n",
    "for pred in preds:\n",
    "    pred_totals.append(sum(pred))"
   ]
  },
  {
   "cell_type": "code",
   "execution_count": 106,
   "metadata": {},
   "outputs": [],
   "source": [
    "# 28 day total of units actually sold for every item\n",
    "true_totals = []\n",
    "for true in trues:\n",
    "    true_totals.append(sum(true))"
   ]
  },
  {
   "cell_type": "code",
   "execution_count": 107,
   "metadata": {},
   "outputs": [
    {
     "data": {
      "text/plain": [
       "23.084728057512034"
      ]
     },
     "execution_count": 107,
     "metadata": {},
     "output_type": "execute_result"
    }
   ],
   "source": [
    "# return root mean squared error between these totals\n",
    "mean_squared_error(true_totals, pred_totals, squared=False)"
   ]
  },
  {
   "cell_type": "code",
   "execution_count": 108,
   "metadata": {},
   "outputs": [
    {
     "data": {
      "text/plain": [
       "288.1871987832873"
      ]
     },
     "execution_count": 108,
     "metadata": {},
     "output_type": "execute_result"
    }
   ],
   "source": [
    "# total predicted units sold for highest volume item\n",
    "sum(preds[214])"
   ]
  },
  {
   "cell_type": "code",
   "execution_count": 109,
   "metadata": {
    "scrolled": false
   },
   "outputs": [
    {
     "data": {
      "text/plain": [
       "241"
      ]
     },
     "execution_count": 109,
     "metadata": {},
     "output_type": "execute_result"
    }
   ],
   "source": [
    "# actual units sold for highest volume item\n",
    "sum(trues[214])"
   ]
  },
  {
   "cell_type": "markdown",
   "metadata": {},
   "source": [
    "### Most Important Features"
   ]
  },
  {
   "cell_type": "markdown",
   "metadata": {},
   "source": [
    "Here, we see that day and week were the most influential factors in predicting the number of sales. This suggests that it was picking up on general long trends, which is good. The third most important feature was the average of the 4 lags, which I also thought would be somewhat analagous to a moving average. The lags were the next most important features, but it makes sense that avg was more useful for the model. The next most important features were Saturday and Sunday, which makes sense, as a lot more people are free on the weekends and buying more products. Lastly, to round out the top ten features is the month November. Since this is a food department, perhaps this captured food items that are sold in high quantities for holidays, especially Thanksgiving."
   ]
  },
  {
   "cell_type": "code",
   "execution_count": 110,
   "metadata": {},
   "outputs": [],
   "source": [
    "imp_graph = dict(sorted(feat_importance.items(), key=lambda item: item[1], reverse=True)[:10])"
   ]
  },
  {
   "cell_type": "code",
   "execution_count": 111,
   "metadata": {},
   "outputs": [],
   "source": [
    "sns.set_palette(sns.color_palette(\"light:b\"))"
   ]
  },
  {
   "cell_type": "code",
   "execution_count": 112,
   "metadata": {
    "scrolled": true
   },
   "outputs": [
    {
     "data": {
      "text/plain": [
       "<AxesSubplot:>"
      ]
     },
     "execution_count": 112,
     "metadata": {},
     "output_type": "execute_result"
    },
    {
     "data": {
      "image/png": "[encoded data removed]",
      "text/plain": [
       "<Figure size 1080x576 with 1 Axes>"
      ]
     },
     "metadata": {
      "needs_background": "light"
     },
     "output_type": "display_data"
    }
   ],
   "source": [
    "fig, ax = plt.subplots(figsize=(15,8))\n",
    "sns.barplot(x=list(imp_graph.values()), y=list(imp_graph.keys()), color='deepskyblue', ax=ax);"
   ]
  },
  {
   "cell_type": "markdown",
   "metadata": {},
   "source": [
    "## Conclusion"
   ]
  },
  {
   "cell_type": "markdown",
   "metadata": {},
   "source": [
    "### Recommendations"
   ]
  },
  {
   "cell_type": "markdown",
   "metadata": {},
   "source": [
    "### Next Steps"
   ]
  },
  {
   "cell_type": "markdown",
   "metadata": {},
   "source": [
    "## Thoughts"
   ]
  },
  {
   "cell_type": "markdown",
   "metadata": {},
   "source": [
    "- need to take into account different types of items, if you're selling Christmas items after Christmas for a reduced price, does it actually reflect the demand of the product\n",
    "- need to take into account marketing, end-caps, and how close to eye-level the products, how do these effect demand\n",
    "- need to take into account inventory, sometimes something has high demand but lack of inventory fails to reflect the full demand, like Oatly milk.\n",
    "- need to talk about the skepticism of just in time manufacturing and how this could change this. \n",
    "- talk about the use of Neural Basis Expansion Analysis for Interpretable Time Series(N-BEATS).\n",
    "- talk about uncertainty competition"
   ]
  }
 ],
 "metadata": {
  "kernelspec": {
   "display_name": "Python (learn-env)",
   "language": "python",
   "name": "learn-env"
  },
  "language_info": {
   "codemirror_mode": {
    "name": "ipython",
    "version": 3
   },
   "file_extension": ".py",
   "mimetype": "text/x-python",
   "name": "python",
   "nbconvert_exporter": "python",
   "pygments_lexer": "ipython3",
   "version": "3.8.5"
  }
 },
 "nbformat": 4,
 "nbformat_minor": 4
}
